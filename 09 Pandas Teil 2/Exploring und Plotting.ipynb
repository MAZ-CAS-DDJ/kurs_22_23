{
 "cells": [
  {
   "cell_type": "markdown",
   "metadata": {},
   "source": [
    "# Exploring und Plotting"
   ]
  },
  {
   "cell_type": "markdown",
   "metadata": {},
   "source": [
    "**Inhalt:** Selbständige Übung in Gruppen\n",
    "\n",
    "**Nötige Skills:** Erste Schritte mit Pandas\n",
    "\n",
    "**Lernziele:**\n",
    "- Daten herunterladen und einlesbar aufbereiten\n",
    "- Selbständig Daten explorieren und Storyideen testen\n",
    "- Colormaps kennenlernen"
   ]
  },
  {
   "cell_type": "markdown",
   "metadata": {},
   "source": [
    "# Das Beispiel"
   ]
  },
  {
   "cell_type": "markdown",
   "metadata": {},
   "source": [
    "Temperaturdaten von Meteoschweiz.\n",
    "\n",
    "Quelle und Dokumentation: https://www.meteoschweiz.admin.ch/home/klima/schweizer-klima-im-detail/schweizer-temperaturmittel/daten-schweizer-temperaturmittel.html\n",
    "\n",
    "Datenfile: https://www.meteoschweiz.admin.ch/product/input/climate-data/swissmean/10.18751-Climate-Timeseries-CHTM-swiss.txt\n",
    "\n",
    "Die Datei wurde mit Excel leicht editiert und ist bereits hier abgelegt: `dataprojects/Meteoschweiz/`"
   ]
  },
  {
   "cell_type": "markdown",
   "metadata": {},
   "source": [
    "## Vorbereitung"
   ]
  },
  {
   "cell_type": "markdown",
   "metadata": {},
   "source": [
    "Wir laden die übliche Library:"
   ]
  },
  {
   "cell_type": "code",
   "execution_count": 1,
   "metadata": {},
   "outputs": [],
   "source": [
    "import pandas as pd"
   ]
  },
  {
   "cell_type": "code",
   "execution_count": null,
   "metadata": {},
   "outputs": [],
   "source": []
  },
  {
   "cell_type": "markdown",
   "metadata": {},
   "source": [
    "## Datenfile laden"
   ]
  },
  {
   "cell_type": "code",
   "execution_count": 2,
   "metadata": {},
   "outputs": [],
   "source": [
    "path = \"dataprojects/Meteoschweiz/10.18751-Climate-Timeseries-CHTM-swiss_edited.xlsx\""
   ]
  },
  {
   "cell_type": "code",
   "execution_count": 3,
   "metadata": {},
   "outputs": [],
   "source": [
    "df = pd.read_excel(path)"
   ]
  },
  {
   "cell_type": "code",
   "execution_count": 4,
   "metadata": {},
   "outputs": [
    {
     "data": {
      "text/html": [
       "<div>\n",
       "<style scoped>\n",
       "    .dataframe tbody tr th:only-of-type {\n",
       "        vertical-align: middle;\n",
       "    }\n",
       "\n",
       "    .dataframe tbody tr th {\n",
       "        vertical-align: top;\n",
       "    }\n",
       "\n",
       "    .dataframe thead th {\n",
       "        text-align: right;\n",
       "    }\n",
       "</style>\n",
       "<table border=\"1\" class=\"dataframe\">\n",
       "  <thead>\n",
       "    <tr style=\"text-align: right;\">\n",
       "      <th></th>\n",
       "      <th>time</th>\n",
       "      <th>jan</th>\n",
       "      <th>feb</th>\n",
       "      <th>mar</th>\n",
       "      <th>apr</th>\n",
       "      <th>may</th>\n",
       "      <th>jun</th>\n",
       "      <th>jul</th>\n",
       "      <th>aug</th>\n",
       "      <th>sep</th>\n",
       "      <th>oct</th>\n",
       "      <th>nov</th>\n",
       "      <th>dec</th>\n",
       "    </tr>\n",
       "  </thead>\n",
       "  <tbody>\n",
       "    <tr>\n",
       "      <th>0</th>\n",
       "      <td>1864</td>\n",
       "      <td>-7.10</td>\n",
       "      <td>-4.52</td>\n",
       "      <td>0.04</td>\n",
       "      <td>2.10</td>\n",
       "      <td>7.43</td>\n",
       "      <td>9.48</td>\n",
       "      <td>12.37</td>\n",
       "      <td>10.95</td>\n",
       "      <td>8.59</td>\n",
       "      <td>3.51</td>\n",
       "      <td>-0.51</td>\n",
       "      <td>-4.47</td>\n",
       "    </tr>\n",
       "    <tr>\n",
       "      <th>1</th>\n",
       "      <td>1865</td>\n",
       "      <td>-3.46</td>\n",
       "      <td>-6.26</td>\n",
       "      <td>-5.91</td>\n",
       "      <td>7.01</td>\n",
       "      <td>10.10</td>\n",
       "      <td>10.98</td>\n",
       "      <td>13.98</td>\n",
       "      <td>11.16</td>\n",
       "      <td>11.89</td>\n",
       "      <td>5.21</td>\n",
       "      <td>1.26</td>\n",
       "      <td>-3.07</td>\n",
       "    </tr>\n",
       "    <tr>\n",
       "      <th>2</th>\n",
       "      <td>1866</td>\n",
       "      <td>-1.31</td>\n",
       "      <td>-0.42</td>\n",
       "      <td>-1.00</td>\n",
       "      <td>4.10</td>\n",
       "      <td>4.96</td>\n",
       "      <td>12.02</td>\n",
       "      <td>12.25</td>\n",
       "      <td>9.99</td>\n",
       "      <td>9.69</td>\n",
       "      <td>5.35</td>\n",
       "      <td>-0.20</td>\n",
       "      <td>-0.49</td>\n",
       "    </tr>\n",
       "    <tr>\n",
       "      <th>3</th>\n",
       "      <td>1867</td>\n",
       "      <td>-3.87</td>\n",
       "      <td>0.55</td>\n",
       "      <td>-0.13</td>\n",
       "      <td>3.48</td>\n",
       "      <td>7.74</td>\n",
       "      <td>10.57</td>\n",
       "      <td>11.29</td>\n",
       "      <td>12.94</td>\n",
       "      <td>10.42</td>\n",
       "      <td>2.93</td>\n",
       "      <td>-1.43</td>\n",
       "      <td>-5.80</td>\n",
       "    </tr>\n",
       "    <tr>\n",
       "      <th>4</th>\n",
       "      <td>1868</td>\n",
       "      <td>-5.46</td>\n",
       "      <td>-1.54</td>\n",
       "      <td>-2.30</td>\n",
       "      <td>2.32</td>\n",
       "      <td>12.04</td>\n",
       "      <td>11.96</td>\n",
       "      <td>12.88</td>\n",
       "      <td>12.50</td>\n",
       "      <td>11.12</td>\n",
       "      <td>4.78</td>\n",
       "      <td>-1.99</td>\n",
       "      <td>1.27</td>\n",
       "    </tr>\n",
       "    <tr>\n",
       "      <th>...</th>\n",
       "      <td>...</td>\n",
       "      <td>...</td>\n",
       "      <td>...</td>\n",
       "      <td>...</td>\n",
       "      <td>...</td>\n",
       "      <td>...</td>\n",
       "      <td>...</td>\n",
       "      <td>...</td>\n",
       "      <td>...</td>\n",
       "      <td>...</td>\n",
       "      <td>...</td>\n",
       "      <td>...</td>\n",
       "      <td>...</td>\n",
       "    </tr>\n",
       "    <tr>\n",
       "      <th>154</th>\n",
       "      <td>2018</td>\n",
       "      <td>0.47</td>\n",
       "      <td>-5.21</td>\n",
       "      <td>-0.18</td>\n",
       "      <td>7.82</td>\n",
       "      <td>10.46</td>\n",
       "      <td>13.82</td>\n",
       "      <td>16.23</td>\n",
       "      <td>15.89</td>\n",
       "      <td>12.58</td>\n",
       "      <td>8.04</td>\n",
       "      <td>2.78</td>\n",
       "      <td>-0.13</td>\n",
       "    </tr>\n",
       "    <tr>\n",
       "      <th>155</th>\n",
       "      <td>2019</td>\n",
       "      <td>-4.38</td>\n",
       "      <td>0.74</td>\n",
       "      <td>2.29</td>\n",
       "      <td>4.49</td>\n",
       "      <td>6.11</td>\n",
       "      <td>15.26</td>\n",
       "      <td>16.21</td>\n",
       "      <td>15.11</td>\n",
       "      <td>11.39</td>\n",
       "      <td>8.45</td>\n",
       "      <td>1.50</td>\n",
       "      <td>0.75</td>\n",
       "    </tr>\n",
       "    <tr>\n",
       "      <th>156</th>\n",
       "      <td>2020</td>\n",
       "      <td>-0.29</td>\n",
       "      <td>1.63</td>\n",
       "      <td>1.56</td>\n",
       "      <td>7.63</td>\n",
       "      <td>9.56</td>\n",
       "      <td>11.83</td>\n",
       "      <td>15.40</td>\n",
       "      <td>15.21</td>\n",
       "      <td>11.89</td>\n",
       "      <td>5.36</td>\n",
       "      <td>3.68</td>\n",
       "      <td>-1.21</td>\n",
       "    </tr>\n",
       "    <tr>\n",
       "      <th>157</th>\n",
       "      <td>2021</td>\n",
       "      <td>-3.57</td>\n",
       "      <td>0.83</td>\n",
       "      <td>0.94</td>\n",
       "      <td>2.88</td>\n",
       "      <td>6.24</td>\n",
       "      <td>14.37</td>\n",
       "      <td>13.90</td>\n",
       "      <td>13.11</td>\n",
       "      <td>12.14</td>\n",
       "      <td>6.27</td>\n",
       "      <td>1.12</td>\n",
       "      <td>-0.66</td>\n",
       "    </tr>\n",
       "    <tr>\n",
       "      <th>158</th>\n",
       "      <td>2022</td>\n",
       "      <td>-1.49</td>\n",
       "      <td>-0.14</td>\n",
       "      <td>2.37</td>\n",
       "      <td>4.62</td>\n",
       "      <td>11.49</td>\n",
       "      <td>15.36</td>\n",
       "      <td>16.96</td>\n",
       "      <td>NaN</td>\n",
       "      <td>NaN</td>\n",
       "      <td>NaN</td>\n",
       "      <td>NaN</td>\n",
       "      <td>NaN</td>\n",
       "    </tr>\n",
       "  </tbody>\n",
       "</table>\n",
       "<p>159 rows × 13 columns</p>\n",
       "</div>"
      ],
      "text/plain": [
       "     time   jan   feb   mar   apr    may    jun    jul    aug    sep   oct  \\\n",
       "0    1864 -7.10 -4.52  0.04  2.10   7.43   9.48  12.37  10.95   8.59  3.51   \n",
       "1    1865 -3.46 -6.26 -5.91  7.01  10.10  10.98  13.98  11.16  11.89  5.21   \n",
       "2    1866 -1.31 -0.42 -1.00  4.10   4.96  12.02  12.25   9.99   9.69  5.35   \n",
       "3    1867 -3.87  0.55 -0.13  3.48   7.74  10.57  11.29  12.94  10.42  2.93   \n",
       "4    1868 -5.46 -1.54 -2.30  2.32  12.04  11.96  12.88  12.50  11.12  4.78   \n",
       "..    ...   ...   ...   ...   ...    ...    ...    ...    ...    ...   ...   \n",
       "154  2018  0.47 -5.21 -0.18  7.82  10.46  13.82  16.23  15.89  12.58  8.04   \n",
       "155  2019 -4.38  0.74  2.29  4.49   6.11  15.26  16.21  15.11  11.39  8.45   \n",
       "156  2020 -0.29  1.63  1.56  7.63   9.56  11.83  15.40  15.21  11.89  5.36   \n",
       "157  2021 -3.57  0.83  0.94  2.88   6.24  14.37  13.90  13.11  12.14  6.27   \n",
       "158  2022 -1.49 -0.14  2.37  4.62  11.49  15.36  16.96    NaN    NaN   NaN   \n",
       "\n",
       "      nov   dec  \n",
       "0   -0.51 -4.47  \n",
       "1    1.26 -3.07  \n",
       "2   -0.20 -0.49  \n",
       "3   -1.43 -5.80  \n",
       "4   -1.99  1.27  \n",
       "..    ...   ...  \n",
       "154  2.78 -0.13  \n",
       "155  1.50  0.75  \n",
       "156  3.68 -1.21  \n",
       "157  1.12 -0.66  \n",
       "158   NaN   NaN  \n",
       "\n",
       "[159 rows x 13 columns]"
      ]
     },
     "execution_count": 4,
     "metadata": {},
     "output_type": "execute_result"
    }
   ],
   "source": [
    "df"
   ]
  },
  {
   "cell_type": "markdown",
   "metadata": {},
   "source": [
    "## Daten checken"
   ]
  },
  {
   "cell_type": "markdown",
   "metadata": {},
   "source": [
    "**Länge und Spalten**"
   ]
  },
  {
   "cell_type": "code",
   "execution_count": 5,
   "metadata": {},
   "outputs": [
    {
     "data": {
      "text/plain": [
       "(159, 13)"
      ]
     },
     "execution_count": 5,
     "metadata": {},
     "output_type": "execute_result"
    }
   ],
   "source": [
    "df.shape"
   ]
  },
  {
   "cell_type": "markdown",
   "metadata": {},
   "source": [
    "**Integrität**"
   ]
  },
  {
   "cell_type": "code",
   "execution_count": 6,
   "metadata": {},
   "outputs": [
    {
     "data": {
      "text/plain": [
       "time      int64\n",
       "jan     float64\n",
       "feb     float64\n",
       "mar     float64\n",
       "apr     float64\n",
       "may     float64\n",
       "jun     float64\n",
       "jul     float64\n",
       "aug     float64\n",
       "sep     float64\n",
       "oct     float64\n",
       "nov     float64\n",
       "dec     float64\n",
       "dtype: object"
      ]
     },
     "execution_count": 6,
     "metadata": {},
     "output_type": "execute_result"
    }
   ],
   "source": [
    "df.dtypes"
   ]
  },
  {
   "cell_type": "markdown",
   "metadata": {},
   "source": [
    "## Daten arrangieren"
   ]
  },
  {
   "cell_type": "markdown",
   "metadata": {},
   "source": [
    "Spalte \"time\" als Index setzen:"
   ]
  },
  {
   "cell_type": "code",
   "execution_count": 7,
   "metadata": {},
   "outputs": [],
   "source": [
    "df = df.set_index(\"time\")"
   ]
  },
  {
   "cell_type": "code",
   "execution_count": 8,
   "metadata": {},
   "outputs": [
    {
     "data": {
      "text/html": [
       "<div>\n",
       "<style scoped>\n",
       "    .dataframe tbody tr th:only-of-type {\n",
       "        vertical-align: middle;\n",
       "    }\n",
       "\n",
       "    .dataframe tbody tr th {\n",
       "        vertical-align: top;\n",
       "    }\n",
       "\n",
       "    .dataframe thead th {\n",
       "        text-align: right;\n",
       "    }\n",
       "</style>\n",
       "<table border=\"1\" class=\"dataframe\">\n",
       "  <thead>\n",
       "    <tr style=\"text-align: right;\">\n",
       "      <th></th>\n",
       "      <th>jan</th>\n",
       "      <th>feb</th>\n",
       "      <th>mar</th>\n",
       "      <th>apr</th>\n",
       "      <th>may</th>\n",
       "      <th>jun</th>\n",
       "      <th>jul</th>\n",
       "      <th>aug</th>\n",
       "      <th>sep</th>\n",
       "      <th>oct</th>\n",
       "      <th>nov</th>\n",
       "      <th>dec</th>\n",
       "    </tr>\n",
       "    <tr>\n",
       "      <th>time</th>\n",
       "      <th></th>\n",
       "      <th></th>\n",
       "      <th></th>\n",
       "      <th></th>\n",
       "      <th></th>\n",
       "      <th></th>\n",
       "      <th></th>\n",
       "      <th></th>\n",
       "      <th></th>\n",
       "      <th></th>\n",
       "      <th></th>\n",
       "      <th></th>\n",
       "    </tr>\n",
       "  </thead>\n",
       "  <tbody>\n",
       "    <tr>\n",
       "      <th>1864</th>\n",
       "      <td>-7.10</td>\n",
       "      <td>-4.52</td>\n",
       "      <td>0.04</td>\n",
       "      <td>2.10</td>\n",
       "      <td>7.43</td>\n",
       "      <td>9.48</td>\n",
       "      <td>12.37</td>\n",
       "      <td>10.95</td>\n",
       "      <td>8.59</td>\n",
       "      <td>3.51</td>\n",
       "      <td>-0.51</td>\n",
       "      <td>-4.47</td>\n",
       "    </tr>\n",
       "    <tr>\n",
       "      <th>1865</th>\n",
       "      <td>-3.46</td>\n",
       "      <td>-6.26</td>\n",
       "      <td>-5.91</td>\n",
       "      <td>7.01</td>\n",
       "      <td>10.10</td>\n",
       "      <td>10.98</td>\n",
       "      <td>13.98</td>\n",
       "      <td>11.16</td>\n",
       "      <td>11.89</td>\n",
       "      <td>5.21</td>\n",
       "      <td>1.26</td>\n",
       "      <td>-3.07</td>\n",
       "    </tr>\n",
       "    <tr>\n",
       "      <th>1866</th>\n",
       "      <td>-1.31</td>\n",
       "      <td>-0.42</td>\n",
       "      <td>-1.00</td>\n",
       "      <td>4.10</td>\n",
       "      <td>4.96</td>\n",
       "      <td>12.02</td>\n",
       "      <td>12.25</td>\n",
       "      <td>9.99</td>\n",
       "      <td>9.69</td>\n",
       "      <td>5.35</td>\n",
       "      <td>-0.20</td>\n",
       "      <td>-0.49</td>\n",
       "    </tr>\n",
       "    <tr>\n",
       "      <th>1867</th>\n",
       "      <td>-3.87</td>\n",
       "      <td>0.55</td>\n",
       "      <td>-0.13</td>\n",
       "      <td>3.48</td>\n",
       "      <td>7.74</td>\n",
       "      <td>10.57</td>\n",
       "      <td>11.29</td>\n",
       "      <td>12.94</td>\n",
       "      <td>10.42</td>\n",
       "      <td>2.93</td>\n",
       "      <td>-1.43</td>\n",
       "      <td>-5.80</td>\n",
       "    </tr>\n",
       "    <tr>\n",
       "      <th>1868</th>\n",
       "      <td>-5.46</td>\n",
       "      <td>-1.54</td>\n",
       "      <td>-2.30</td>\n",
       "      <td>2.32</td>\n",
       "      <td>12.04</td>\n",
       "      <td>11.96</td>\n",
       "      <td>12.88</td>\n",
       "      <td>12.50</td>\n",
       "      <td>11.12</td>\n",
       "      <td>4.78</td>\n",
       "      <td>-1.99</td>\n",
       "      <td>1.27</td>\n",
       "    </tr>\n",
       "    <tr>\n",
       "      <th>...</th>\n",
       "      <td>...</td>\n",
       "      <td>...</td>\n",
       "      <td>...</td>\n",
       "      <td>...</td>\n",
       "      <td>...</td>\n",
       "      <td>...</td>\n",
       "      <td>...</td>\n",
       "      <td>...</td>\n",
       "      <td>...</td>\n",
       "      <td>...</td>\n",
       "      <td>...</td>\n",
       "      <td>...</td>\n",
       "    </tr>\n",
       "    <tr>\n",
       "      <th>2018</th>\n",
       "      <td>0.47</td>\n",
       "      <td>-5.21</td>\n",
       "      <td>-0.18</td>\n",
       "      <td>7.82</td>\n",
       "      <td>10.46</td>\n",
       "      <td>13.82</td>\n",
       "      <td>16.23</td>\n",
       "      <td>15.89</td>\n",
       "      <td>12.58</td>\n",
       "      <td>8.04</td>\n",
       "      <td>2.78</td>\n",
       "      <td>-0.13</td>\n",
       "    </tr>\n",
       "    <tr>\n",
       "      <th>2019</th>\n",
       "      <td>-4.38</td>\n",
       "      <td>0.74</td>\n",
       "      <td>2.29</td>\n",
       "      <td>4.49</td>\n",
       "      <td>6.11</td>\n",
       "      <td>15.26</td>\n",
       "      <td>16.21</td>\n",
       "      <td>15.11</td>\n",
       "      <td>11.39</td>\n",
       "      <td>8.45</td>\n",
       "      <td>1.50</td>\n",
       "      <td>0.75</td>\n",
       "    </tr>\n",
       "    <tr>\n",
       "      <th>2020</th>\n",
       "      <td>-0.29</td>\n",
       "      <td>1.63</td>\n",
       "      <td>1.56</td>\n",
       "      <td>7.63</td>\n",
       "      <td>9.56</td>\n",
       "      <td>11.83</td>\n",
       "      <td>15.40</td>\n",
       "      <td>15.21</td>\n",
       "      <td>11.89</td>\n",
       "      <td>5.36</td>\n",
       "      <td>3.68</td>\n",
       "      <td>-1.21</td>\n",
       "    </tr>\n",
       "    <tr>\n",
       "      <th>2021</th>\n",
       "      <td>-3.57</td>\n",
       "      <td>0.83</td>\n",
       "      <td>0.94</td>\n",
       "      <td>2.88</td>\n",
       "      <td>6.24</td>\n",
       "      <td>14.37</td>\n",
       "      <td>13.90</td>\n",
       "      <td>13.11</td>\n",
       "      <td>12.14</td>\n",
       "      <td>6.27</td>\n",
       "      <td>1.12</td>\n",
       "      <td>-0.66</td>\n",
       "    </tr>\n",
       "    <tr>\n",
       "      <th>2022</th>\n",
       "      <td>-1.49</td>\n",
       "      <td>-0.14</td>\n",
       "      <td>2.37</td>\n",
       "      <td>4.62</td>\n",
       "      <td>11.49</td>\n",
       "      <td>15.36</td>\n",
       "      <td>16.96</td>\n",
       "      <td>NaN</td>\n",
       "      <td>NaN</td>\n",
       "      <td>NaN</td>\n",
       "      <td>NaN</td>\n",
       "      <td>NaN</td>\n",
       "    </tr>\n",
       "  </tbody>\n",
       "</table>\n",
       "<p>159 rows × 12 columns</p>\n",
       "</div>"
      ],
      "text/plain": [
       "       jan   feb   mar   apr    may    jun    jul    aug    sep   oct   nov  \\\n",
       "time                                                                          \n",
       "1864 -7.10 -4.52  0.04  2.10   7.43   9.48  12.37  10.95   8.59  3.51 -0.51   \n",
       "1865 -3.46 -6.26 -5.91  7.01  10.10  10.98  13.98  11.16  11.89  5.21  1.26   \n",
       "1866 -1.31 -0.42 -1.00  4.10   4.96  12.02  12.25   9.99   9.69  5.35 -0.20   \n",
       "1867 -3.87  0.55 -0.13  3.48   7.74  10.57  11.29  12.94  10.42  2.93 -1.43   \n",
       "1868 -5.46 -1.54 -2.30  2.32  12.04  11.96  12.88  12.50  11.12  4.78 -1.99   \n",
       "...    ...   ...   ...   ...    ...    ...    ...    ...    ...   ...   ...   \n",
       "2018  0.47 -5.21 -0.18  7.82  10.46  13.82  16.23  15.89  12.58  8.04  2.78   \n",
       "2019 -4.38  0.74  2.29  4.49   6.11  15.26  16.21  15.11  11.39  8.45  1.50   \n",
       "2020 -0.29  1.63  1.56  7.63   9.56  11.83  15.40  15.21  11.89  5.36  3.68   \n",
       "2021 -3.57  0.83  0.94  2.88   6.24  14.37  13.90  13.11  12.14  6.27  1.12   \n",
       "2022 -1.49 -0.14  2.37  4.62  11.49  15.36  16.96    NaN    NaN   NaN   NaN   \n",
       "\n",
       "       dec  \n",
       "time        \n",
       "1864 -4.47  \n",
       "1865 -3.07  \n",
       "1866 -0.49  \n",
       "1867 -5.80  \n",
       "1868  1.27  \n",
       "...    ...  \n",
       "2018 -0.13  \n",
       "2019  0.75  \n",
       "2020 -1.21  \n",
       "2021 -0.66  \n",
       "2022   NaN  \n",
       "\n",
       "[159 rows x 12 columns]"
      ]
     },
     "execution_count": 8,
     "metadata": {},
     "output_type": "execute_result"
    }
   ],
   "source": [
    "df"
   ]
  },
  {
   "cell_type": "markdown",
   "metadata": {},
   "source": [
    "**Was bedeuten die einzelnen Spalten?**"
   ]
  },
  {
   "cell_type": "code",
   "execution_count": null,
   "metadata": {},
   "outputs": [],
   "source": []
  },
  {
   "cell_type": "markdown",
   "metadata": {},
   "source": [
    "## Explorieren"
   ]
  },
  {
   "cell_type": "markdown",
   "metadata": {},
   "source": [
    "Ihr Ziel ist, aus den Temperaturdaten eine einfache Story zu generieren.\n",
    "\n",
    "Überlegen Sie sich dazu:\n",
    "- Welche Fragen richten Sie an das Temperaturdaten-Set?\n",
    "- Welche Auswertungen sind nötig, um die Fragen zu beanworten?\n",
    "- Wie stellen Sie die Resultate mittels Grafiken dar?\n",
    "\n",
    "Arbeiten Sie in Gruppen, um ein Ergebnis zu erarbeiten:\n",
    "- Drei bis vier Sätze, welche die Story zusammenfassen\n",
    "- eine oder mehrere Grafiken, die das Ergebnis illustrieren"
   ]
  },
  {
   "cell_type": "code",
   "execution_count": null,
   "metadata": {},
   "outputs": [],
   "source": []
  },
  {
   "cell_type": "code",
   "execution_count": null,
   "metadata": {},
   "outputs": [],
   "source": []
  },
  {
   "cell_type": "code",
   "execution_count": null,
   "metadata": {},
   "outputs": [],
   "source": []
  },
  {
   "cell_type": "code",
   "execution_count": null,
   "metadata": {},
   "outputs": [],
   "source": []
  },
  {
   "cell_type": "code",
   "execution_count": null,
   "metadata": {},
   "outputs": [],
   "source": []
  },
  {
   "cell_type": "code",
   "execution_count": null,
   "metadata": {},
   "outputs": [],
   "source": []
  },
  {
   "cell_type": "code",
   "execution_count": null,
   "metadata": {},
   "outputs": [],
   "source": []
  },
  {
   "cell_type": "code",
   "execution_count": null,
   "metadata": {},
   "outputs": [],
   "source": []
  },
  {
   "cell_type": "code",
   "execution_count": null,
   "metadata": {},
   "outputs": [],
   "source": []
  },
  {
   "cell_type": "code",
   "execution_count": null,
   "metadata": {},
   "outputs": [],
   "source": []
  },
  {
   "cell_type": "code",
   "execution_count": null,
   "metadata": {},
   "outputs": [],
   "source": []
  },
  {
   "cell_type": "code",
   "execution_count": null,
   "metadata": {},
   "outputs": [],
   "source": []
  },
  {
   "cell_type": "code",
   "execution_count": null,
   "metadata": {},
   "outputs": [],
   "source": []
  },
  {
   "cell_type": "code",
   "execution_count": null,
   "metadata": {},
   "outputs": [],
   "source": []
  },
  {
   "cell_type": "code",
   "execution_count": null,
   "metadata": {},
   "outputs": [],
   "source": []
  },
  {
   "cell_type": "code",
   "execution_count": null,
   "metadata": {},
   "outputs": [],
   "source": []
  },
  {
   "cell_type": "code",
   "execution_count": null,
   "metadata": {},
   "outputs": [],
   "source": []
  },
  {
   "cell_type": "code",
   "execution_count": null,
   "metadata": {},
   "outputs": [],
   "source": []
  },
  {
   "cell_type": "code",
   "execution_count": null,
   "metadata": {},
   "outputs": [],
   "source": []
  },
  {
   "cell_type": "code",
   "execution_count": null,
   "metadata": {},
   "outputs": [],
   "source": []
  },
  {
   "cell_type": "code",
   "execution_count": null,
   "metadata": {},
   "outputs": [],
   "source": []
  },
  {
   "cell_type": "code",
   "execution_count": null,
   "metadata": {},
   "outputs": [],
   "source": []
  },
  {
   "cell_type": "markdown",
   "metadata": {},
   "source": [
    "### Story"
   ]
  },
  {
   "cell_type": "markdown",
   "metadata": {},
   "source": [
    "Führen Sie zum Schluss hier Ihren \"Pitch\" and die Redaktion auf, mit Grafik und Kurzbeschrieb"
   ]
  },
  {
   "cell_type": "code",
   "execution_count": null,
   "metadata": {},
   "outputs": [],
   "source": []
  },
  {
   "cell_type": "code",
   "execution_count": null,
   "metadata": {},
   "outputs": [],
   "source": []
  },
  {
   "cell_type": "code",
   "execution_count": null,
   "metadata": {},
   "outputs": [],
   "source": []
  },
  {
   "cell_type": "code",
   "execution_count": null,
   "metadata": {},
   "outputs": [],
   "source": []
  },
  {
   "cell_type": "code",
   "execution_count": null,
   "metadata": {},
   "outputs": [],
   "source": []
  },
  {
   "cell_type": "code",
   "execution_count": null,
   "metadata": {},
   "outputs": [],
   "source": []
  },
  {
   "cell_type": "code",
   "execution_count": null,
   "metadata": {},
   "outputs": [],
   "source": []
  },
  {
   "cell_type": "code",
   "execution_count": null,
   "metadata": {},
   "outputs": [],
   "source": []
  },
  {
   "cell_type": "code",
   "execution_count": null,
   "metadata": {},
   "outputs": [],
   "source": []
  },
  {
   "cell_type": "code",
   "execution_count": null,
   "metadata": {},
   "outputs": [],
   "source": []
  },
  {
   "cell_type": "code",
   "execution_count": null,
   "metadata": {},
   "outputs": [],
   "source": []
  },
  {
   "cell_type": "code",
   "execution_count": null,
   "metadata": {},
   "outputs": [],
   "source": []
  },
  {
   "cell_type": "code",
   "execution_count": null,
   "metadata": {},
   "outputs": [],
   "source": []
  },
  {
   "cell_type": "code",
   "execution_count": null,
   "metadata": {},
   "outputs": [],
   "source": []
  },
  {
   "cell_type": "code",
   "execution_count": null,
   "metadata": {},
   "outputs": [],
   "source": []
  }
 ],
 "metadata": {
  "kernelspec": {
   "display_name": "Python 3 (ipykernel)",
   "language": "python",
   "name": "python3"
  },
  "language_info": {
   "codemirror_mode": {
    "name": "ipython",
    "version": 3
   },
   "file_extension": ".py",
   "mimetype": "text/x-python",
   "name": "python",
   "nbconvert_exporter": "python",
   "pygments_lexer": "ipython3",
   "version": "3.10.6"
  }
 },
 "nbformat": 4,
 "nbformat_minor": 2
}
