{
 "cells": [
  {
   "cell_type": "markdown",
   "metadata": {},
   "source": [
    "# Named Entities Recognition with NLTK\n",
    "- Named entities sind Orte, Firmen, Organisationen, Länder, etc.. alles Eigennamen. \n",
    "- Oft sind diese Eigennamen relativ wichtig im Text. "
   ]
  },
  {
   "cell_type": "code",
   "execution_count": 1,
   "metadata": {},
   "outputs": [],
   "source": [
    "import nltk"
   ]
  },
  {
   "cell_type": "code",
   "execution_count": 11,
   "metadata": {},
   "outputs": [
    {
     "data": {
      "text/plain": [
       "['John',\n",
       " 'Smith',\n",
       " 'United',\n",
       " 'States',\n",
       " 'America',\n",
       " 'Microsoft',\n",
       " 'Research',\n",
       " 'Labs']"
      ]
     },
     "execution_count": 11,
     "metadata": {},
     "output_type": "execute_result"
    }
   ],
   "source": [
    "out = nltk.pos_tag(nltk.word_tokenize(\"John Smith is from the United States of America and works at Microsoft Research Labs\"))\n",
    "named_entities = []\n",
    "for tag in out:\n",
    "    if tag[1] == \"NNP\" or tag[1] == \"NNPS\":\n",
    "        named_entities.append(tag[0]) \n",
    "named_entities"
   ]
  },
  {
   "cell_type": "code",
   "execution_count": 3,
   "metadata": {},
   "outputs": [
    {
     "name": "stdout",
     "output_type": "stream",
     "text": [
      "(S\n",
      "  (PERSON John/NNP)\n",
      "  (PERSON Smith/NNP)\n",
      "  is/VBZ\n",
      "  from/IN\n",
      "  the/DT\n",
      "  (GPE United/NNP States/NNPS)\n",
      "  of/IN\n",
      "  (GPE America/NNP)\n",
      "  and/CC\n",
      "  works/VBZ\n",
      "  at/IN\n",
      "  (ORGANIZATION Microsoft/NNP Research/NNP Labs/NNP))\n"
     ]
    },
    {
     "name": "stderr",
     "output_type": "stream",
     "text": [
      "[nltk_data] Downloading package averaged_perceptron_tagger to\n",
      "[nltk_data]     /Users/plotti/nltk_data...\n",
      "[nltk_data]   Package averaged_perceptron_tagger is already up-to-\n",
      "[nltk_data]       date!\n",
      "[nltk_data] Downloading package maxent_ne_chunker to\n",
      "[nltk_data]     /Users/plotti/nltk_data...\n",
      "[nltk_data]   Package maxent_ne_chunker is already up-to-date!\n",
      "[nltk_data] Downloading package words to /Users/plotti/nltk_data...\n",
      "[nltk_data]   Package words is already up-to-date!\n"
     ]
    }
   ],
   "source": [
    "import nltk\n",
    "nltk.download('averaged_perceptron_tagger')\n",
    "nltk.download('maxent_ne_chunker')\n",
    "nltk.download('words')\n",
    "pos_tags = nltk.pos_tag(nltk.word_tokenize(\"John Smith is from the United States of America and works at Microsoft Research Labs\"))\n",
    "print(nltk.ne_chunk(pos_tags))"
   ]
  },
  {
   "cell_type": "code",
   "execution_count": 6,
   "metadata": {},
   "outputs": [
    {
     "ename": "ModuleNotFoundError",
     "evalue": "No module named 'svgling'",
     "output_type": "error",
     "traceback": [
      "\u001b[0;31m---------------------------------------------------------------------------\u001b[0m",
      "\u001b[0;31mModuleNotFoundError\u001b[0m                       Traceback (most recent call last)",
      "File \u001b[0;32m~/miniconda3/envs/nlp/lib/python3.8/site-packages/IPython/core/formatters.py:342\u001b[0m, in \u001b[0;36mBaseFormatter.__call__\u001b[0;34m(self, obj)\u001b[0m\n\u001b[1;32m    340\u001b[0m     method \u001b[38;5;241m=\u001b[39m get_real_method(obj, \u001b[38;5;28mself\u001b[39m\u001b[38;5;241m.\u001b[39mprint_method)\n\u001b[1;32m    341\u001b[0m     \u001b[38;5;28;01mif\u001b[39;00m method \u001b[38;5;129;01mis\u001b[39;00m \u001b[38;5;129;01mnot\u001b[39;00m \u001b[38;5;28;01mNone\u001b[39;00m:\n\u001b[0;32m--> 342\u001b[0m         \u001b[38;5;28;01mreturn\u001b[39;00m \u001b[43mmethod\u001b[49m\u001b[43m(\u001b[49m\u001b[43m)\u001b[49m\n\u001b[1;32m    343\u001b[0m     \u001b[38;5;28;01mreturn\u001b[39;00m \u001b[38;5;28;01mNone\u001b[39;00m\n\u001b[1;32m    344\u001b[0m \u001b[38;5;28;01melse\u001b[39;00m:\n",
      "File \u001b[0;32m~/miniconda3/envs/nlp/lib/python3.8/site-packages/nltk/tree/tree.py:783\u001b[0m, in \u001b[0;36mTree._repr_svg_\u001b[0;34m(self)\u001b[0m\n\u001b[1;32m    782\u001b[0m \u001b[38;5;28;01mdef\u001b[39;00m \u001b[38;5;21m_repr_svg_\u001b[39m(\u001b[38;5;28mself\u001b[39m):\n\u001b[0;32m--> 783\u001b[0m     \u001b[38;5;28;01mfrom\u001b[39;00m \u001b[38;5;21;01msvgling\u001b[39;00m \u001b[38;5;28;01mimport\u001b[39;00m draw_tree\n\u001b[1;32m    785\u001b[0m     \u001b[38;5;28;01mreturn\u001b[39;00m draw_tree(\u001b[38;5;28mself\u001b[39m)\u001b[38;5;241m.\u001b[39m_repr_svg_()\n",
      "\u001b[0;31mModuleNotFoundError\u001b[0m: No module named 'svgling'"
     ]
    },
    {
     "data": {
      "text/plain": [
       "Tree('S', [Tree('PERSON', [('Johan', 'NNP')]), Tree('PERSON', [('Meier', 'NNP')]), ('kommt', 'NNP'), ('aus', 'NN'), Tree('GPE', [('Deutschland', 'NNP')]), ('und', 'NN'), ('arbeitet', 'NN'), ('bei', 'NN'), ('der', 'NN'), Tree('ORGANIZATION', [('Forschungsabteilung', 'NNP')]), ('von', 'NNP'), ('Microsoft', 'NNP')])"
      ]
     },
     "execution_count": 6,
     "metadata": {},
     "output_type": "execute_result"
    }
   ],
   "source": [
    "result = nltk.ne_chunk(nltk.pos_tag(nltk.word_tokenize(\"Johan Meier kommt aus Deutschland und arbeitet bei der Forschungsabteilung von Microsoft\")))\n",
    "result"
   ]
  },
  {
   "cell_type": "markdown",
   "metadata": {},
   "source": [
    "# Named Entities with spacy"
   ]
  },
  {
   "cell_type": "code",
   "execution_count": 15,
   "metadata": {},
   "outputs": [
    {
     "name": "stdout",
     "output_type": "stream",
     "text": [
      "Brexit-Verhandlungen LOC\n",
      "britische Regierung LOC\n",
      "EU-Hauptstadt LOC\n",
      "Großbritannien LOC\n",
      "Brüssel LOC\n",
      "Brüssel LOC\n",
      "Brüssel LOC\n",
      "London LOC\n",
      "Brüssel LOC\n",
      "Downing Street LOC\n",
      "London LOC\n"
     ]
    },
    {
     "data": {
      "text/plain": [
       "['Brexit-Verhandlungen',\n",
       " 'britische Regierung',\n",
       " 'EU-Hauptstadt',\n",
       " 'Großbritannien',\n",
       " 'Brüssel',\n",
       " 'Brüssel',\n",
       " 'Brüssel',\n",
       " 'London',\n",
       " 'Brüssel',\n",
       " 'Downing Street',\n",
       " 'London']"
      ]
     },
     "execution_count": 15,
     "metadata": {},
     "output_type": "execute_result"
    }
   ],
   "source": [
    "import spacy\n",
    "nlp = spacy.load(\"de_core_news_sm\")\n",
    "\n",
    "doc = nlp(\"\"\"\n",
    "\n",
    "Bei den Brexit-Verhandlungen ist offenbar ein entscheidendes Zwischenziel erreicht worden. Nachdem die britische Regierung am Dienstag verkündete, es gebe eine Einigung mit Brüssel, mehrten sich auch in der EU-Hauptstadt die Anzeichen, dass die Unterhändler von EU und Großbritannien auf technischer Ebene ein belastbares Papier erarbeitet haben.\n",
    "\n",
    "Am Mittwoch will die Premierministerin Theresa May nun ihr Kabinett auf die Brüsseler Übereinkunft einschwören.\n",
    "\n",
    "Der Fraktionschef der Europäischen Volkspartei, Manfred Weber, sagte in den ARD-\"Tagesthemen\", es gebe \"positive Signale\", dass es zu einer Einigung komme: \"Ja, der weiße Rauch steigt auf.\" Eine offizielle Bestätigung für einen Deal gab es von den Unterhändlern aus Brüssel zunächst nicht. Allerdings wollen die Botschafter der 27 restlichen EU-Länder am Mittwoch über einen Zeitplan bis zu einem möglichen Sondergipfel am Ende des Monats beraten, ein Vorhaben, das sinnlos wäre, wenn es keinen Grund für vorsichtigen Optimismus gäbe.\n",
    "\n",
    "Mittwoch Gespräche im Kabinett, bei Erfolg: Sondergipfel am 25. November\n",
    "\n",
    "Zuletzt waren die Gespräche bis tief in die Nacht im sogenannten Tunnel geführt worden, unter maximaler Geheimhaltung und mit der gegenseitigen Zusicherung, dass nichts davon vorzeitig nach außen dringt. Dann, am frühen Dienstagabend, bestätigte ein Sprecher Mays, dass tatsächlich ein Vertragsentwurf vorliege.\n",
    "\n",
    "Die Premierministerin habe ihr Kabinett für Mittwoch, 14 Uhr Ortszeit, zu einer außerordentlichen Sitzung einbestellt. Ihr Ziel ist, möglichst noch am Mittwoch verkünden zu können, dass ihre Regierung weitgehend geschlossen hinter der mit Brüssel getroffenen Vereinbarung steht. Danach würde umgehend ein EU-Sondergipfel, vermutlich für den 25. November, einberufen.\n",
    "\n",
    "Wird May das Ergebnis der Unterhändler diesmal zu Hause durchsetzen?\n",
    "\n",
    "In Brüssel ist man hingegen vorsichtig mit dem Wort Einigung. Es gebe einen Text, auf den sich die Unterhändler geeinigt hätten, politisch sei der aber noch nicht abgesegnet, sagen mit der Angelegenheit vertraute EU-Diplomaten. Nun liege der Ball, mal wieder, in London. Eine ähnliche Situation hatte es bereits vor rund vier Wochen gegeben, als die Unterhändler in Brüssel ebenfalls weit gekommen waren, 10 Downing Street aber in letzter Sekunde den Stecker zog, weil May das Ergebnis in London nicht durchsetzen konnte.\n",
    "\n",
    "Trotzdem bereitet auch die EU nun die Grundlagen für einen Sondergipfel vor, auf dem May für das Publikum auf der Insel ausreichend Verhandlungsdramatik inszenieren könnte. Die Sitzung der Botschafter der 27 verbleibenden EU-Länder am Mittwochnachmittag wurde um den Tagesordnungspunkt \"State of Play\" erweitert, es geht also um den Stand der Brexit-Verhandlungen.\n",
    "\"\"\")\n",
    "\n",
    "locations = []\n",
    "for ent in doc.ents:\n",
    "    #print(\"entity type %s : %s\" % (ent.label_,ent.text))\n",
    "    if ent.label_ == \"LOC\":\n",
    "        print(ent.text, ent.label_)\n",
    "        locations.append(ent.text)\n",
    "locations "
   ]
  },
  {
   "cell_type": "code",
   "execution_count": 19,
   "metadata": {},
   "outputs": [
    {
     "data": {
      "text/plain": [
       "(Brexit-Verhandlungen,\n",
       " britische,\n",
       " Brüssel,\n",
       " EU-Hauptstadt,\n",
       " EU,\n",
       " Großbritannien,\n",
       " Theresa May,\n",
       " Brüsseler,\n",
       " Europäischen Volkspartei,\n",
       " Manfred Weber,\n",
       " ARD-\"Tagesthemen,\n",
       " Brüssel,\n",
       " EU-Länder,\n",
       " Optimismus,\n",
       " Sondergipfel,\n",
       " Die Premierministerin,\n",
       " Brüssel,\n",
       " May,\n",
       " Hause,\n",
       " Brüssel,\n",
       " London,\n",
       " Brüssel,\n",
       " London,\n",
       " EU,\n",
       " EU-Länder,\n",
       " Brexit-Verhandlungen)"
      ]
     },
     "execution_count": 19,
     "metadata": {},
     "output_type": "execute_result"
    }
   ],
   "source": [
    "doc.ents"
   ]
  },
  {
   "cell_type": "markdown",
   "metadata": {},
   "source": [
    "### Aufgabe\n",
    "Holt euch den text von http://www.spiegel.de/politik/ausland/brexit-das-endspiel-hat-begonnen-a-1238299.html mit dem readability tool und findet heraus welche named entities am häufigsten vorkommen.  Von welchen Ländern und Unternehmen wird vor allem gesprochen?"
   ]
  },
  {
   "cell_type": "code",
   "execution_count": 17,
   "metadata": {},
   "outputs": [
    {
     "name": "stdout",
     "output_type": "stream",
     "text": [
      "Sebastian Sons PER\n",
      "Ibraheem Al Wofür PER\n",
      "Sebastian Sons Sebastian Sons PER\n",
      "Olaf Scholz PER\n",
      "Verdacht PER\n"
     ]
    }
   ],
   "source": [
    "#import httplib2\n",
    "from nltk.tokenize import word_tokenize\n",
    "text = '''Wofür die WM in Katar eine Chance sein kann\n",
    "Die Debatte um die WM wird emotional, aber selten differenziert geführt. Dabei bietet genau dieses Turnier die Möglichkeit, Deutschlands Verhältnis zu Katar zu klären.\n",
    "Ein Gastbeitrag von Sebastian Sons\n",
    "18. November 2022, 9:20 Uhr 63 Kommentare\n",
    "WM in Katar: In Katar wird die Kritik an der WM teils als eurozentristisch und überheblich wahrgenommen.\n",
    "In Katar wird die Kritik an der WM teils als eurozentristisch und überheblich wahrgenommen. © Ibraheem Al Omari/​Reuters\n",
    "Wofür die WM in Katar eine Chance sein kann – Seite 1\n",
    "\n",
    "Die Debatte um die umstrittene Fußball-Weltmeisterschaft in Katar hat sich in den vergangenen Monaten im Ton deutlich verschärft. In der deutschen Öffentlichkeit wird die WM weitgehend abgelehnt: 56 Prozent der Deutschen wollen keine WM-Spiele schauen. Die Kontroverse um das Turnier wird dabei oftmals polemisch und emotional, seltener nuanciert und differenziert geführt. Dies zeigt, wie sehr das Thema polarisiert, frustriert und irritiert. Dabei liegt in der WM in Katar auch eine Chance.\n",
    "\n",
    "In der Auseinandersetzung um Katar ist die Kritik oft unscharf: Zum einen zielt sie auf das Missmanagement im Weltfußball und insbesondere auf die Korruption bei den WM-Vergaben. Dabei gilt die Fifa als Inbegriff der Überkommerzialisierung des globalen Fußballs, dessen mächtige Männer sich mit ihrer Gier immer weiter von den Fans entfernen. Katar steht hierbei mit der WM, der Übernahme von Paris Saint-Germain und der umstrittenen Sponsorschaft von Qatar Airways beim FC Bayern als symbolischer Höhepunkt dieser Fehlentwicklung, als Inbegriff eines korrupten Ausbeutungssystems da, in dem der Fan vergessen wird.\n",
    "\n",
    "Auf einer zweiten Ebene wird die strukturelle Gewalt gegen und die systemische Ausbeutung der Arbeitsmigranten in Katar kritisiert. Deren Situation wurde in den vergangenen Jahren von Menschenrechtsorganisationen und Gewerkschaften thematisiert, was den Druck auf die katarische Regierung verstärkte, gesetzliche Reformen einzuführen. Seitdem wurde der Mindestlohn angehoben, die Beschwerdemechanismen im Fall von Misshandlung oder Lohndiebstahl ausgebaut und ein besserer Hitzeschutz eingeführt. Dennoch: Die Umsetzung bleibt problematisch. Noch immer sind 70 Prozent der Todesfälle auf den Baustellen nicht aufgeklärt worden, noch immer klagen vor allem die zumeist weiblichen Hausangestellten über Misshandlungen, Vergewaltigungen und Schlafentzug.\n",
    "Sebastian Sons\n",
    "\n",
    "Sebastian Sons ist Islamwissenschaftler und beschäftigt sich intensiv mit den arabischen Golfmonarchien, deren Sport-, Entwicklungs- und Außenpolitik. Er arbeitet als Wissenschaftler beim deutschen Forschungsinstitut CARPO. Von ihm erschien zuletzt das Buch \"Menschenrechte sind nicht käuflich. Warum die WM in Katar auch bei uns zu einer neuen Politik führen muss\".\n",
    "\n",
    "Kritik gibt es aber auch daran, dass ein Land, welches sich noch nie sportlich für eine WM qualifiziert hat, das kleiner ist als Hessen und das aufgrund der hohen Temperaturen das Turnier im europäischen Winter ausrichten lassen muss, kein Recht habe, Gastgeber einer WM sein zu dürfen.\n",
    "Newsletter\n",
    "“Was jetzt?“-Newsletter und Katar-Sonderausgabe\n",
    "\n",
    "Verfolgen Sie die Fußballweltmeisterschaft 2022 in Katar mit der täglichen Sonderausgabe des \"Was jetzt?\"-Nachrichtennewsletters.\n",
    "\n",
    "Teile dieser Kritik werden in Katar und anderen arabischen Ländern als respektlos, eurozentristisch und überheblich wahrgenommen. Dem Westen wird vorgeworfen, scheinheilig nur dann Menschenrechte zu verteidigen, wenn es eigenen Interessen dient.\n",
    "\n",
    "In der Region betrachten viele die WM in Katar auch als ihr Turnier, ist es doch die erste in der islamisch-arabischen Welt. Weil große Teile der arabischen Gesellschaften fußballbegeistert sind, gilt ihnen Katar als Repräsentant für die gesamte arabische Welt – wenngleich viele von ihnen den Gastgeber auch problematisch sehen. So solidarisieren sich bei Twitter unter dem Hashtag #I_Am_Arab_and_I_Support_Qatar und in arabischen Medien viele mit dem Gastgeber und kritisieren zum Beispiel Karikaturen in der französischen Zeitschrift Le Canard enchaine als rassistisch und islamfeindlich.\n",
    "\n",
    "In Gesprächen mit arabischen Kolleginnen wird immer wieder deutlich, dass man sich unfair behandelt fühlt und die Anfeindungen als Ausdruck der europäischen Doppelmoral zurückweist. Dies verdeutlichte auch der Emir von Katar, der zuletzt davon sprach, dass es sich bei dieser Kritik um eine Kampagne der doppelten Standards handele. Seine Worte richtete er dabei in erster Linie an die eigene Bevölkerung, deren Loyalität er braucht, um seine Macht zu behalten. Er möchte nach innen ein Zeichen der Stärke setzen und vor der WM die eigenen Reihen schließen.\n",
    "\n",
    "Dies zeigt, dass selbst autokratische Monarchien wie Katar einerseits auf externen Druck reagieren müssen, andererseits die Zustimmung von einflussreichen Unterstützern nicht verlieren dürfen. Zugleich ist das Geschäftsmodell Katars darauf angewiesen, mit Europa und Deutschland enge politische und wirtschaftliche Beziehungen zu unterhalten. Dies lässt vermuten, dass sich die Aufregung im Verlauf des Turniers und danach wieder legen könnte, weil beide Seiten wissen, aufeinander angewiesen zu sein.\n",
    "Externer Inhalt\n",
    "Datenschutzerklärung\n",
    "\n",
    "Deswegen bietet die jetzige Kontroverse auch eine Möglichkeit zu einem ehrlicheren und offeneren Dialog miteinander: Bislang hat es die deutsche Außenpolitik versäumt, eine klare und kohärente Strategie im Umgang mit Katar zu entwickeln. Anstatt Menschenrechte zu verteidigen, profitierten westliche Unternehmen bei Geschäften mit Katar im Vorfeld der WM. Diese Widersprüche lassen Glaubwürdigkeit erodieren und stehen für eine strategische Planlosigkeit im Umgang mit Katar und anderen autokratischen Staaten.\n",
    "\n",
    "Durch den russischen Angriffskrieg gegen die Ukraine ändert sich aber die außenpolitische Diskussion in Deutschland. Wegen der Energiekrise rücken auch die autokratischen Golfmonarchien stärker als potenzielle Partner in der Energieversorgung in den Blickpunkt der deutschen Öffentlichkeit: der Bundeskanzler Olaf Scholz und der Wirtschaftsminister Robert Habeck besuchten den katarischen Emir, um über Gaslieferungen zu verhandeln. Gleichzeitig existieren Energiepartnerschaften mit Saudi-Arabien und den Vereinigten Arabischen Emiraten.\n",
    "Lösungen statt Moralkeule\n",
    "\n",
    "Die Debatte um die WM in Katar zeigt dabei allerdings, wie kritisch jegliche Zusammenarbeit mit den Autokratien am Golf betrachtet wird. Dies bringt die Politik in ein Dilemma: Auf der einen Seite sind Länder wie Katar zu wichtig geworden, um sie zu ignorieren. Auf der anderen Seite steht jegliche Form der Zusammenarbeit unter Verdacht, eigene moralische Werte zu verraten und sich in neue Abhängigkeiten von Autokratien zu begeben – ein Fehler, der nach den Erfahrungen mit Russland nicht wiederholt werden soll.\n",
    "\n",
    "Um dieses Dilemma aufzulösen, braucht es einen nüchternen, aber aufmerksamen und wachen Blick auf die Potenziale und Risiken einer engeren Zusammenarbeit mit Katar auch nach der WM. Anstatt die Moralkeule zu schwingen, sollte die Debatte nach Lösungsansätzen suchen, die über die Diskussion um einen Boykott hinausreichen. Ein klarer Kurs, der Werte und Interessen vereinbart und der Moral und Realitäten anerkennt, kann helfen, verloren gegangene Glaubwürdigkeit wiederzugewinnen.\n",
    "\n",
    "Um eigene Werte nicht zu verraten, ist es notwendig, ehrlich und offen zu kommunizieren, in welchen Bereichen Katar ein wichtiger Partner sein kann. Dazu zählt neben der Energiepolitik auch die Entwicklungspolitik oder eine engere Kooperation im Migrationsmanagement. Dafür ist es allerdings nötig, der deutschen Öffentlichkeit und der katarischen Seite selbstkritischer zu erklären, woher die Kritik rührt, welche roten Linien im Umgang mit dem autokratischen Katar existieren und warum eine Zusammenarbeit aus politischer Perspektive trotzdem notwendig ist. In Zeiten der Polarisierung und empörter Rhetorik sollte dafür polemische von berechtigter Kritik unterschieden werden. Nur so kann man glaubwürdiger auftreten.\n",
    "\n",
    "Weiterhin sollte mehr miteinander als übereinander gesprochen werden. Die Golfmonarchien durchlaufen einen Wandel, sie öffnen sich wirtschaftlich und gesellschaftlich: Immer mehr Frauen studieren und arbeiten, eine junge Generation drängt auf mehr gesellschaftliche Teilhabe. Aber es nimmt auch die politische Repression zu und eine Demokratisierung ist nicht in Sicht. Oftmals werden diese gleichzeitigen Ungleichzeitigkeiten und die widersprüchlichen doppelten Böden jedoch in der öffentlichen Debatte nicht ausreichend reflektiert. Deswegen sollten künftig verstärkt Dialogformate zwischen Deutschland und den Golfmonarchien organisiert werden.\n",
    "\n",
    "Die WM bietet dafür ein Momentum, das genutzt werden sollte. \n",
    "Seitennavigation\n",
    "'''\n",
    "\n",
    "words = word_tokenize(text)\n",
    "words=[word for word in words if word.isalpha()]\n",
    "text_clean = (\" \").join(words)\n",
    "doc = nlp(text_clean)\n",
    "personen = []\n",
    "for ent in doc.ents:\n",
    "    if ent.label_ == \"PER\":\n",
    "        print(ent.text, ent.label_)\n",
    "        personen.append(ent.text)"
   ]
  },
  {
   "cell_type": "code",
   "execution_count": 58,
   "metadata": {},
   "outputs": [],
   "source": [
    "#doc.ents"
   ]
  }
 ],
 "metadata": {
  "kernelspec": {
   "display_name": "Python 3 (ipykernel)",
   "language": "python",
   "name": "python3"
  },
  "language_info": {
   "codemirror_mode": {
    "name": "ipython",
    "version": 3
   },
   "file_extension": ".py",
   "mimetype": "text/x-python",
   "name": "python",
   "nbconvert_exporter": "python",
   "pygments_lexer": "ipython3",
   "version": "3.8.15"
  }
 },
 "nbformat": 4,
 "nbformat_minor": 2
}
