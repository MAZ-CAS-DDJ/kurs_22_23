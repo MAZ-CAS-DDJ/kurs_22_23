{
 "cells": [
  {
   "cell_type": "code",
   "execution_count": 110,
   "id": "4e592d97",
   "metadata": {},
   "outputs": [],
   "source": [
    "import os"
   ]
  },
  {
   "cell_type": "code",
   "execution_count": 111,
   "id": "ea8c6fde",
   "metadata": {},
   "outputs": [],
   "source": [
    "gerichtsurteile_liste = os.listdir(\"gerichts-urteile/\")"
   ]
  },
  {
   "cell_type": "code",
   "execution_count": 112,
   "id": "5030d3c0",
   "metadata": {},
   "outputs": [],
   "source": [
    "text = open(\"gerichts-urteile/\"+gerichtsurteile_liste[0], \"r\")\n",
    "final_text = text.read()\n",
    "text.close()"
   ]
  },
  {
   "cell_type": "code",
   "execution_count": 113,
   "id": "1b016555",
   "metadata": {
    "scrolled": false
   },
   "outputs": [
    {
     "data": {
      "text/plain": [
       "'\\n\\n2C_641/2007 (25.04.2008)\\n\\n\\n\\n\\n\\n\\n\\n\\n\\n\\n\\n\\n         Wichtiger Hinweis:\\n         \\n         Diese Website wird in älteren Versionen von Netscape ohne graphische Elemente dargestellt. Die Funktionalität der Website ist aber trotzdem gewährleistet. Wenn Sie diese Website regelmässig benutzen, empfehlen wir Ihnen, auf Ihrem Computer einen aktuellen Browser zu installieren.\\n      \\n\\n\\nZurück zur Einstiegsseite\\nDrucken\\n\\n\\nGrössere Schrift\\n\\n\\n\\n\\n      \\xa0\\n   \\n\\n\\n\\n\\n\\nTribunale federale\\nTribunal federal\\n\\xa0\\n{T 0/2}\\n2C_641/2007 /zga\\n\\xa0\\nUrteil vom 25. April 2008\\nII. öffentlich-rechtliche Abteilung\\n\\xa0\\nBesetzung\\nBundesrichter Merkli, Präsident,\\nBundesrichter Hungerbühler, Müller,\\nGerichtsschreiber Klopfenstein.\\n\\xa0\\nParteien\\nX.________ AG,\\nBeschwerdeführerin, vertreten durch Advokat Marcel Muff,\\n\\xa0\\ngegen\\n\\xa0\\nOberzolldirektion, Abteilung LSVA, Gutenbergstrasse 50, 3003 Bern.\\n\\xa0\\nLeistungsabhängige Schwerverkehrsabgabe\\nGegenstand\\nLSVA (Solidarhaftung für Anhänger),\\n\\xa0\\nBeschwerde gegen das Urteil\\ndes Bundesverwaltungsgericht, Abteilung I,\\nvom 28. September 2007.\\n\\xa0\\nSachverhalt:\\n\\xa0\\nA.\\nDie X.________ AG mit Sitz in A.________ führt Warentransporte durch und betreibt eine Reparaturwerkstätte für Lastwagen und Personenwagen. Auf das Unternehmen sind acht verschiedene Sattelanhänger mit einem zulässigen Gesamtgewicht zwischen 24 t und 36 t immatrikuliert.\\n\\xa0\\nIn der Zeit vom 3./6. - 28. April 2006 führte die Z.________ Transporte als Subunternehmerin der X.________ AG mit einem eigenen Zugfahrzeug für die letztgenannte Gesellschaft verschiedene Fahrten durch, teilweise unter Verwendung der soeben erwähnten Anhänger. Die Oberzolldirektion stellte ihr hierfür die leistungsabhängige Schwerverkehrsabgabe (LSVA) im Betrag von insgesamt Fr. 8\\'374.45 in Rechnung. Die Z.________ Transporte erwies sich jedoch in der Folge als zahlungsunfähig: Das bei ihr durchgeführte betreibungsrechtliche Inkasso endete mit der Ausstellung eines Verlustscheins über Fr. 8\\'694.--.\\n\\xa0\\nB.\\nNach getroffener Feststellung, dass die Z.________ Transporte für ihre Fahrten die Sattelanhänger der X.________ AG eingesetzt hatte, auf deren Verwendung eine Schwerverkehrsabgabe von Fr. 4\\'866.40 angefallen war, machte die Oberzolldirektion diesen Betrag am 8. Februar 2007 bei der X.________ AG geltend. Diese stellte sich indessen im Wesentlichen auf den Standpunkt, sie sei nicht Halterin der fraglichen Sattelanhänger und könne deshalb für die in Rechnung gestellte Abgabe nicht belangt werden.\\n\\xa0\\nC.\\nMit Verfügung vom 20. März 2007 erklärte die Oberzolldirektion - soweit die besagten Anhänger betreffend - die X.________ AG für die bei der Z.________ Transporte erfolglos eingeforderte Schwerverkehrsabgabe als solidarisch haftbar und setzte den von der X.________ AG geschuldeten Betrag gemäss Rechnung Nr. 5084642 auf Fr. 4\\'866.40 fest.\\n\\xa0\\nEine gegen diese Verfügung erhobene Einsprache blieb erfolglos, und mit Urteil vom 28. September 2007 wies das Bundesverwaltungsgericht eine gegen den Einspracheentscheid vom 11. Mai 2007 gerichtete Beschwerde ebenfalls ab.\\n\\xa0\\nD.\\nMit Eingabe vom 13. November 2007 führt die X.________ AG beim Bundesgericht Beschwerde in öffentlich-rechtlichen Angelegenheiten mit den Anträgen, das genannte Urteil des Bundesverwaltungsgerichts sowie die vorangegangene Verfügung der Oberzolldirektion aufzuheben und festzustellen, dass für die Abgabeforderung gemäss Rechnung Nr. 5084642 keine Haftung der Beschwerdeführerin bestehe.\\n\\xa0\\nDie Oberzolldirektion beantragt, die Beschwerde abzuweisen. Das Bundesverwaltungsgericht hat auf Vernehmlassung verzichtet.\\n\\xa0\\nE.\\nMit Verfügung vom 16. November 2007 hat der Abteilungspräsident das gleichzeitig mit der Beschwerdeeinreichung gestellte Gesuch um aufschiebende Wirkung abgewiesen.\\n\\xa0\\nErwägungen:\\n\\xa0\\n1.\\n1.1 Der angefochtene Entscheid stützt sich auf öffentliches Recht des Bundes und unterliegt der Beschwerde in öffentlich-rechtlichen Angelegenheiten gemäss Art. 82 ff. BGG. Ein Ausschlussgrund gemäss Art. 83 BGG liegt nicht vor. Die Beschwerdeführerin ist als Verfügungsadressatin vom angefochtenen Entscheid besonders berührt und hat ein schutzwürdiges Interesse an dessen Überprüfung. Sie ist damit zur Beschwerde berechtigt (vgl. Art. 89 BGG).\\n\\xa0\\nHingegen kann mit dem genannten Rechtsmittel einzig der Entscheid des Bundesverwaltungsgerichts angefochten werden (vgl. Art. 86 Abs. 1 lit. a BGG). Soweit damit auch die Aufhebung der Verfügung der Oberzolldirektion vom 20. März 2007 verlangt wird, ist auf die Beschwerde nicht einzutreten.\\n\\xa0\\n1.2 Mit der Beschwerde kann eine Rechtsverletzung nach Art. 95 und 96 BGG geltend gemacht werden. Das Bundesgericht wendet das Recht von Amtes wegen an (Art. 106 Abs. 1 BGG). Es ist folglich weder an die in der Beschwerde geltend gemachten Argumente noch an die Erwägungen der Vorinstanz gebunden; es kann eine Beschwerde aus einem anderen als dem angerufenen Grund gutheissen, und es kann eine Beschwerde mit einer von der Argumentation der Vorinstanz abweichenden Begründung abweisen. Das Bundesgericht prüft, unter Berücksichtigung der allgemeinen Begründungspflicht der Beschwerde (Art. 42 Abs. 1 und 2 BGG), grundsätzlich nur die geltend gemachten Rügen, sofern die rechtlichen Mängel nicht geradezu offensichtlich sind.\\n\\xa0\\n1.3  Das Bundesgericht legt sodann seinem Urteil den von der Vorinstanz festgestellten Sachverhalt zugrunde (Art. 105 Abs. 1 BGG), es sei denn, dieser sei offensichtlich unrichtig oder beruhe auf einer Rechtsverletzung im Sinne von Art. 95 BGG (Art. 105 Abs. 2 bzw. Art. 97 Abs. 1 BGG). Neue Tatsachen und Beweismittel dürfen nur so weit vorgebracht werden, als erst der Entscheid der Vorinstanz dazu Anlass gibt (Art. 99 Abs. 1 BGG).\\n\\xa0\\nDie tatsächlichen Feststellungen der Vorinstanz werden vorliegend nicht angefochten. Ebenso wenig streitig ist die Berechnung des eingeforderten Abgabebetrages.\\n\\xa0\\n2.\\n2.1 Gemäss Art. 1 Abs. 1 des Bundesgesetzes vom 19. Dezember 1997 über eine leistungsabhängige Schwerverkehrsabgabe (Schwerverkehrsabgabegesetz, SVAG, SR 641.81) soll der Schwerverkehr mit dieser Abgabe die ihm zurechenbaren Wegekosten und Kosten zulasten der Allgemeinheit langfristig decken, soweit er für diese nicht bereits durch andere Leistungen oder Abgaben aufkommt. Die Abgabe wird auf den im In- und Ausland immatrikulierten (in- und ausländischen) schweren Motorfahrzeugen und Anhängern für den Güter- oder den Personentransport erhoben (Art. 3 SVAG). Sie ist für mitgeführte Anhänger vom Halter des Zugfahrzeuges zu deklarieren und zu bezahlen (Art. 17 Abs. 3 der Verordnung vom 6. März 2000 über eine leistungsabhängige Schwerverkehrsabgabe [Schwerverkehrsabgabeverordnung, SVAV, SR 641. 811]). Abgabepflichtig ist gemäss Art. 5 Abs. 1 SVAG der Halter des Fahrzeuges, bei ausländischen Fahrzeugen zusätzlich der Fahrzeugführer. Art. 5 Abs. 2 SVAG ermächtigt darüber hinaus den Bundesrat ausdrücklich, für die Abgabe \"weitere Personen als solidarisch haftbar\" zu erklären.\\n\\xa0\\n2.2 Von dieser Kompetenz hat der Bundesrat in Art. 36 SVAV Gebrauch gemacht. Neben dem Halter des Fahrzeuges sind für die Abgabe sowie für allfällige Zinsen und Gebühren u. a. solidarisch haftbar \"die Halterin oder der Halter eines Anhängers, wenn die Halterin oder der Halter des Zugfahrzeuges zahlungsunfähig ist: im Umfang des Gesamtgewichts des Anhängers für die mit diesem zurückgelegten Kilometer\" (Art. 36 Abs.1 lit. b SVAV in der hier noch anwendbaren Fassung vom 6. März 2000 [AS 2000 1170 1183]).\\n\\xa0\\n2.3 Die Haltereigenschaft wird zunächst in Art. 78 Abs. 1 der Verordnung vom 27. Oktober 1976 über die Zulassung von Personen und Fahrzeugen zum Strassenverkehr (Verkehrszulassungsverordnung, VZV, SR 741.51) näher umschrieben. Sie beurteilt sich nach den tatsächlichen Verhältnissen. Als Halter gilt namentlich, wer die tatsächliche und dauernde Verfügungsgewalt über das Fahrzeug besitzt und es in seinem Interesse oder auf seine Kosten gebraucht oder gebrauchen lässt.\\n\\xa0\\nHalter im Sinne des Strassenverkehrsrechts ist nach konstanter Rechtsprechung nicht notwendigerweise der Eigentümer des Fahrzeugs oder wer formell im Fahrzeugausweis eingetragen ist, sondern derjenige, auf dessen eigene Rechnung und Gefahr der Betrieb des Fahrzeugs erfolgt und der zugleich über dieses und allenfalls über die zum Betrieb erforderlichen Personen die tatsächliche, unmittelbare Verfügung besitzt (BGE 129 III 102 E. 2.1 S. 103 mit zahlreichen Hinweisen auf frühere Entscheide und Literatur). Dabei hat das Bundesgericht eine Zeitdauer von vier Monaten, während welcher ein Betroffener über das Fahrzeug im Wesentlichen frei verfügen konnte, für die Begründung der Haltereigenschaft als ausreichend erachtet (BGE 129 III 102 E. 2.3 S. 106).\\n\\xa0\\n3.\\n3.1 Die Beschwerdeführerin macht im Wesentlichen geltend, die Vorinstanz wende einen rein formellen Halterbegriff an und halte fest, dass gemäss Art. 5 SVAG immer diejenige Person Halter sei, auf deren Namen das Fahrzeug oder der Anhänger immatrikuliert sei. Im Bereich der leistungsabhängigen Schwerverkehrsabgabe müsse indessen ein anderer Halterbegriff zur Anwendung kommen. Da es nicht um die Einhaltung administrativer Ordnungsvorschriften, sondern um die korrekte fiskalrechtliche Belastung des abgabepflichtigen Transportunternehmers gehe, dürfe kein formeller, rein administrativrechtlicher Halterbegriff angewendet werden. Abgabepflichtig könne nur derjenige Transportunternehmer sein, der durch das Zurücklegen einer bestimmten Strecke mit einem schweren Motorfahrzeug oder einem Anhängerzug die öffentlichen Strassen in Anspruch nehme. Dies sei in der vorliegenden Konstellation der Subunternehmer: Er habe die Verfügungsmacht über das Fahrzeug und den Anhänger, er lege die Kosten verursachende Strecke selbst (oder durch sein bei ihm angestelltes Fahrpersonal) zurück und er verwirkliche damit den die Abgabe auslösenden Tatbestand. Jede andere Auslegung verstosse gegen das Legalitätsprinzip sowie gegen das Willkürverbot und sei somit verfassungswidrig.\\n\\xa0\\n3.2  Entgegen der Annahme der Beschwerdeführerin besteht kein Anlass, für die Erhebung der Schwerverkehrsabgabe auf einen anderen als den üblichen, in Art. 78 VZV umschriebenen und in der bundesgerichtlichen Rechtsprechung konkretisierten Halterbegriff (vgl. E. 2.3) abzustellen. Gemäss unbestrittener (vgl. E. 1.3) Sachdarstellung wurden die Anhänger vorliegend in der Zeit zwischen dem 3./6. April und dem 28. April 2006 von der Subunternehmerin der Beschwerdeführerin verwendet. Nach eigener Darlegung stellte die X.________ AG ihre auf sie immatrikulierten Anhänger \"regelmässig\" der Z.________ Transporte zur Ausführung einzelner Transportleistungen zur Verfügung, welche diese Leistungen \"als Subunternehmer (Zwischenfrachtführer) für die Beschwerdeführerin erbrachte\" (vgl. S. 4 der Beschwerdeschrift). Gemäss der erwähnten Rechtsprechung (E. 2.3) blieb die X.________ AG damit aber Halterin ihrer jeweils nur vorübergehend einem Subunternehmer als Transporteur überlassenen Anhänger; die Haltereigenschaft ging - entgegen der Auffassung der Beschwerdeführerin - nicht auf den Subunternehmer über.\\n\\xa0\\nDer Einwand, die Beschwerdeführerin sei zur Zeit der zur Diskussion stehenden Transporte gar nicht Halterin der betreffenden Anhänger gewesen und könne schon deshalb nicht für die darauf entfallende Schwerverkehrsabgabe belangt werden, ist damit unbegründet.\\n\\xa0\\n3.3 Zu prüfen bleiben die Rügen der Verletzung des Legalitätsprinzips und des Willkürverbots.\\n\\xa0\\nAus naheliegenden praktischen Gründen auferlegt Art. 17 Abs. 3 SVAV bei Fahrzeugen mit Anhängern die Deklarations- und Zahlungspflicht der Schwerverkehrsabgabe dem Halter des Zugfahrzeuges. Für diese Regelung kann sich der Verordnungsgeber auf die in Art. 10 SVAG übertragene Vollzugskompetenz stützen. Aber auch die hier zur Anwendung gelangte Regelung von Art. 36 Abs. 1 lit. b SVAV, wonach bei Zahlungsunfähigkeit des Halters des Zugfahrzeuges der Halter des Anhängers für die mit diesem zurückgelegten Kilometer im Umfang des Gesamtgewichtes des Anhängers solidarisch haftet, ist durch das Gesetz (Art. 5) klarerweise gedeckt: Einerseits darf die Beschwerdeführerin schon als Halterin des Anhängers für die mit ihrem Fahrzeug erbrachten Fahrleistungen belangt werden (Art. 5 Abs. 1 SVAG), und andererseits ist der Verordnungsgeber ausdrücklich ermächtigt, neben einer primär als Halter ins Recht zu fassenden Person auch noch andere Personen solidarisch haftbar zu erklären (Art. 5 Abs. 2 SVAG, vgl. vorne E. 2.2). Eine Verletzung des Legalitätsprinzips liegt damit nicht vor. Die Ausdehnung der solidarischen Haftbarkeit auf den Halter eines durch Dritte benützten Anhängers ist entgegen den Vorbringen der Beschwerdeführerin aber auch keineswegs sachwidrig und willkürlich: Wie die Vorinstanz zutreffend erwogen hat, ist die Solidarschuldnerschaft \"für den letztlich davon Betroffenen fraglos unangenehm, aber nichts Ungewöhnliches\", und muss sich in der vorliegenden Konstellation der Halter eines Anhängers durch geeignete zivilrechtliche Massnahmen vor allfälligen Verlusten selbst schützen (E. 2.2.2 des angefochtenen Entscheides).\\n\\xa0\\n4.\\nNach dem Gesagten erweist sich die Beschwerde als unbegründet. Sie ist abzuweisen, soweit darauf eingetreten werden kann.\\n\\xa0\\nBei diesem Verfahrensausgang sind die Gerichtskosten der Beschwerdeführerin aufzuerlegen (Art. 65 und 66 BGG). Parteientschädigungen sind nicht geschuldet (Art. 68 BGG).\\n\\xa0\\nDemnach erkennt das Bundesgericht:\\n\\xa0\\n1.\\nDie Beschwerde wird abgewiesen, soweit darauf einzutreten ist.\\n\\xa0\\n2.\\nDie Gerichtskosten von Fr. 1\\'500.-- werden der Beschwerdeführerin auferlegt.\\n\\xa0\\n3.\\nDieses Urteil wird den Parteien und dem Bundesverwaltungsgericht, Abteilung I, schriftlich mitgeteilt.\\nLausanne, 25. April 2008\\nIm Namen der II. öffentlich-rechtlichen Abteilung\\ndes Schweizerischen Bundesgerichts\\nDer Präsident:        Der Gerichtsschreiber:\\n\\xa0\\nMerkli        Klopfenstein\\n\\xa0\\n\\n\\n\\n\\n\\n\\n\\n\\n\\n\\n\\n\\n         Navigation\\n      \\n\\nNeue Suche\\n\\n\\nZurück zum Suchresultat\\n\\n\\n            Rang:\\n                                                         1\\n                                                            2\\nVorwärts\\n\\n\\nähnliche Leitentscheide suchen\\n\\nähnliche Urteile ab 2000 suchen\\n\\n\\n\\n\\n\\n\\n\\n\\n\\n\\n      \\xa0\\n   \\n\\n      \\xa0\\n   \\n\\nDrucken\\nnach oben\\n\\n\\n'"
      ]
     },
     "execution_count": 113,
     "metadata": {},
     "output_type": "execute_result"
    }
   ],
   "source": [
    "final_text"
   ]
  },
  {
   "cell_type": "code",
   "execution_count": null,
   "id": "dfa952d2",
   "metadata": {},
   "outputs": [],
   "source": []
  },
  {
   "cell_type": "code",
   "execution_count": 114,
   "id": "6ba438c6",
   "metadata": {},
   "outputs": [
    {
     "name": "stdout",
     "output_type": "stream",
     "text": [
      "2052\n"
     ]
    }
   ],
   "source": [
    "alle_texte = []\n",
    "\n",
    "for gerichtsurteil in gerichtsurteile_liste:\n",
    "    text = open(\"gerichts-urteile/\" + gerichtsurteil,\"r\")\n",
    "    final_text = text.read()\n",
    "    alle_texte.append(final_text)\n",
    "    text.close()\n",
    "print(len(alle_texte))"
   ]
  },
  {
   "cell_type": "code",
   "execution_count": 115,
   "id": "7ec8914a",
   "metadata": {},
   "outputs": [
    {
     "data": {
      "text/plain": [
       "str"
      ]
     },
     "execution_count": 115,
     "metadata": {},
     "output_type": "execute_result"
    }
   ],
   "source": [
    "type(open(\"gerichts-urteile/\" + gerichtsurteil,\"r\").read())"
   ]
  },
  {
   "cell_type": "code",
   "execution_count": 116,
   "id": "6eb9cd56",
   "metadata": {},
   "outputs": [
    {
     "data": {
      "text/plain": [
       "'vertreten durch Advokat Marcel Muff'"
      ]
     },
     "execution_count": 116,
     "metadata": {},
     "output_type": "execute_result"
    }
   ],
   "source": [
    "advokat = re.compile(r'vertreten durch\\s\\w*\\s\\w*\\s\\w*')  #2C_641/2007 #9F_6/2015 #2A.168/2006 \n",
    "ak = re.search(advokat, final_list[0])\n",
    "ak.group()"
   ]
  },
  {
   "cell_type": "code",
   "execution_count": 91,
   "id": "d315b79d",
   "metadata": {},
   "outputs": [],
   "source": [
    "advokatliste = []\n",
    "for text in alle_texte:\n",
    "    try:\n",
    "        advokat = re.compile(r'vertreten durch\\s\\w*\\s\\w*\\s\\w*') \n",
    "        ak = re.search(advokat, text)\n",
    "        advokatliste.append(ak.group())\n",
    "    except:\n",
    "        advokatliste.append(\"N/A\")"
   ]
  },
  {
   "cell_type": "code",
   "execution_count": 93,
   "id": "d8c49547",
   "metadata": {},
   "outputs": [
    {
     "data": {
      "text/plain": [
       "['vertreten durch Advokat Marcel Muff', 'N/A', 'N/A', 'N/A', 'N/A']"
      ]
     },
     "execution_count": 93,
     "metadata": {},
     "output_type": "execute_result"
    }
   ],
   "source": [
    "advokatliste[:5]"
   ]
  },
  {
   "cell_type": "code",
   "execution_count": 94,
   "id": "9b0cf379",
   "metadata": {},
   "outputs": [],
   "source": [
    "import pandas as pd"
   ]
  },
  {
   "cell_type": "code",
   "execution_count": 95,
   "id": "7239d5f9",
   "metadata": {},
   "outputs": [
    {
     "data": {
      "text/html": [
       "<div>\n",
       "<style scoped>\n",
       "    .dataframe tbody tr th:only-of-type {\n",
       "        vertical-align: middle;\n",
       "    }\n",
       "\n",
       "    .dataframe tbody tr th {\n",
       "        vertical-align: top;\n",
       "    }\n",
       "\n",
       "    .dataframe thead th {\n",
       "        text-align: right;\n",
       "    }\n",
       "</style>\n",
       "<table border=\"1\" class=\"dataframe\">\n",
       "  <thead>\n",
       "    <tr style=\"text-align: right;\">\n",
       "      <th></th>\n",
       "      <th>0</th>\n",
       "    </tr>\n",
       "  </thead>\n",
       "  <tbody>\n",
       "    <tr>\n",
       "      <th>0</th>\n",
       "      <td>vertreten durch Advokat Marcel Muff</td>\n",
       "    </tr>\n",
       "    <tr>\n",
       "      <th>1</th>\n",
       "      <td>N/A</td>\n",
       "    </tr>\n",
       "    <tr>\n",
       "      <th>2</th>\n",
       "      <td>N/A</td>\n",
       "    </tr>\n",
       "    <tr>\n",
       "      <th>3</th>\n",
       "      <td>N/A</td>\n",
       "    </tr>\n",
       "    <tr>\n",
       "      <th>4</th>\n",
       "      <td>N/A</td>\n",
       "    </tr>\n",
       "    <tr>\n",
       "      <th>...</th>\n",
       "      <td>...</td>\n",
       "    </tr>\n",
       "    <tr>\n",
       "      <th>2047</th>\n",
       "      <td>N/A</td>\n",
       "    </tr>\n",
       "    <tr>\n",
       "      <th>2048</th>\n",
       "      <td>N/A</td>\n",
       "    </tr>\n",
       "    <tr>\n",
       "      <th>2049</th>\n",
       "      <td>N/A</td>\n",
       "    </tr>\n",
       "    <tr>\n",
       "      <th>2050</th>\n",
       "      <td>N/A</td>\n",
       "    </tr>\n",
       "    <tr>\n",
       "      <th>2051</th>\n",
       "      <td>N/A</td>\n",
       "    </tr>\n",
       "  </tbody>\n",
       "</table>\n",
       "<p>2052 rows × 1 columns</p>\n",
       "</div>"
      ],
      "text/plain": [
       "                                        0\n",
       "0     vertreten durch Advokat Marcel Muff\n",
       "1                                     N/A\n",
       "2                                     N/A\n",
       "3                                     N/A\n",
       "4                                     N/A\n",
       "...                                   ...\n",
       "2047                                  N/A\n",
       "2048                                  N/A\n",
       "2049                                  N/A\n",
       "2050                                  N/A\n",
       "2051                                  N/A\n",
       "\n",
       "[2052 rows x 1 columns]"
      ]
     },
     "execution_count": 95,
     "metadata": {},
     "output_type": "execute_result"
    }
   ],
   "source": [
    "pd.DataFrame(advokatliste)"
   ]
  },
  {
   "cell_type": "code",
   "execution_count": 99,
   "id": "a910d14d",
   "metadata": {},
   "outputs": [],
   "source": [
    "meine_dictionary = [{'Rechtsanwalt': \"Herr Y\", \"Datum\":\"28-10-2022\"},\n",
    "{'Rechtsanwalt': \"Frau X\", \"Datum\":\"24-09-2022\"},\n",
    "{'Rechtsanwalt': \"Frau Z\", \"Datum\":\"24-10-2020\"}]"
   ]
  },
  {
   "cell_type": "code",
   "execution_count": 101,
   "id": "49556ede",
   "metadata": {},
   "outputs": [
    {
     "data": {
      "text/html": [
       "<div>\n",
       "<style scoped>\n",
       "    .dataframe tbody tr th:only-of-type {\n",
       "        vertical-align: middle;\n",
       "    }\n",
       "\n",
       "    .dataframe tbody tr th {\n",
       "        vertical-align: top;\n",
       "    }\n",
       "\n",
       "    .dataframe thead th {\n",
       "        text-align: right;\n",
       "    }\n",
       "</style>\n",
       "<table border=\"1\" class=\"dataframe\">\n",
       "  <thead>\n",
       "    <tr style=\"text-align: right;\">\n",
       "      <th></th>\n",
       "      <th>Rechtsanwalt</th>\n",
       "      <th>Datum</th>\n",
       "    </tr>\n",
       "  </thead>\n",
       "  <tbody>\n",
       "    <tr>\n",
       "      <th>0</th>\n",
       "      <td>Herr Y</td>\n",
       "      <td>28-10-2022</td>\n",
       "    </tr>\n",
       "    <tr>\n",
       "      <th>1</th>\n",
       "      <td>Frau X</td>\n",
       "      <td>24-09-2022</td>\n",
       "    </tr>\n",
       "    <tr>\n",
       "      <th>2</th>\n",
       "      <td>Frau Z</td>\n",
       "      <td>24-10-2020</td>\n",
       "    </tr>\n",
       "  </tbody>\n",
       "</table>\n",
       "</div>"
      ],
      "text/plain": [
       "  Rechtsanwalt       Datum\n",
       "0       Herr Y  28-10-2022\n",
       "1       Frau X  24-09-2022\n",
       "2       Frau Z  24-10-2020"
      ]
     },
     "execution_count": 101,
     "metadata": {},
     "output_type": "execute_result"
    }
   ],
   "source": [
    "pd.DataFrame(meine_dictionary).to_csv('meindictionary.csv')"
   ]
  },
  {
   "cell_type": "code",
   "execution_count": null,
   "id": "f62a8749",
   "metadata": {},
   "outputs": [],
   "source": []
  },
  {
   "cell_type": "code",
   "execution_count": 96,
   "id": "8174bb00",
   "metadata": {},
   "outputs": [],
   "source": [
    "pd.DataFrame(advokatliste).to_csv('test.csv')"
   ]
  },
  {
   "cell_type": "code",
   "execution_count": 97,
   "id": "279bcb3a",
   "metadata": {},
   "outputs": [],
   "source": [
    "pd.DataFrame(advokatliste).to_clipboard()"
   ]
  },
  {
   "cell_type": "code",
   "execution_count": 98,
   "id": "d84187e0",
   "metadata": {},
   "outputs": [
    {
     "name": "stdout",
     "output_type": "stream",
     "text": [
      "\u001b[31m01 install anaconda.md\u001b[m\u001b[m*               06 Übung.ipynb\r\n",
      "\u001b[31m02 Jupyter.md\u001b[m\u001b[m*                        \u001b[34mIron March\u001b[m\u001b[m/\r\n",
      "\u001b[31m03 Work-Flow.md\u001b[m\u001b[m*                      KLassenfile.ipynb\r\n",
      "\u001b[31m04.1 Modules & Libraries.ipynb\u001b[m\u001b[m*       \u001b[30m\u001b[43mgerichts-urteile\u001b[m\u001b[m/\r\n",
      "\u001b[31m04.2 EXTRA Regular Expressions.ipynb\u001b[m\u001b[m* \u001b[31mgerichtsdokumente.csv\u001b[m\u001b[m*\r\n",
      "\u001b[31m05 Dokumente ein- und auslesen.ipynb\u001b[m\u001b[m* gerichtsdokumente2.csv\r\n",
      "06 Iron March Messages.ipynb          test.csv\r\n"
     ]
    }
   ],
   "source": [
    "ls"
   ]
  },
  {
   "cell_type": "code",
   "execution_count": null,
   "id": "d2b0d6da",
   "metadata": {},
   "outputs": [],
   "source": []
  },
  {
   "cell_type": "code",
   "execution_count": 121,
   "id": "093ab73f",
   "metadata": {
    "scrolled": true
   },
   "outputs": [],
   "source": [
    "advokatliste = []\n",
    "for text in alle_texte:\n",
    "    \n",
    "    datum = re.compile(r'\\d{2}\\.\\d{2}\\.\\d{4}') \n",
    "    datum = re.search(datum, text).group()\n",
    "    \n",
    "    try:\n",
    "        advokat = re.compile(r'vertreten durch\\s\\w*\\s\\w*\\s\\w*') \n",
    "        ak = re.search(advokat, text).group()\n",
    "        \n",
    "        mini_dictionary = {'Datum':datum, 'Advokat': ak}\n",
    "\n",
    "    except:\n",
    "\n",
    "        mini_dictionary = {'Datum':datum,\n",
    "                           'Advokat': \"N/A\"}\n",
    "        \n",
    "    \n",
    "    advokatliste.append(mini_dictionary)"
   ]
  },
  {
   "cell_type": "code",
   "execution_count": 118,
   "id": "7448d920",
   "metadata": {},
   "outputs": [],
   "source": [
    "import pandas as pd"
   ]
  },
  {
   "cell_type": "code",
   "execution_count": 120,
   "id": "ae55f03f",
   "metadata": {},
   "outputs": [
    {
     "data": {
      "text/html": [
       "<div>\n",
       "<style scoped>\n",
       "    .dataframe tbody tr th:only-of-type {\n",
       "        vertical-align: middle;\n",
       "    }\n",
       "\n",
       "    .dataframe tbody tr th {\n",
       "        vertical-align: top;\n",
       "    }\n",
       "\n",
       "    .dataframe thead th {\n",
       "        text-align: right;\n",
       "    }\n",
       "</style>\n",
       "<table border=\"1\" class=\"dataframe\">\n",
       "  <thead>\n",
       "    <tr style=\"text-align: right;\">\n",
       "      <th></th>\n",
       "      <th>Datum</th>\n",
       "      <th>Advokat</th>\n",
       "    </tr>\n",
       "  </thead>\n",
       "  <tbody>\n",
       "    <tr>\n",
       "      <th>0</th>\n",
       "      <td>25.04.2008</td>\n",
       "      <td>vertreten durch Advokat Marcel Muff</td>\n",
       "    </tr>\n",
       "    <tr>\n",
       "      <th>1</th>\n",
       "      <td>18.11.2015</td>\n",
       "      <td>N/A</td>\n",
       "    </tr>\n",
       "    <tr>\n",
       "      <th>2</th>\n",
       "      <td>12.09.2007</td>\n",
       "      <td>N/A</td>\n",
       "    </tr>\n",
       "    <tr>\n",
       "      <th>3</th>\n",
       "      <td>27.04.2015</td>\n",
       "      <td>N/A</td>\n",
       "    </tr>\n",
       "    <tr>\n",
       "      <th>4</th>\n",
       "      <td>19.01.2009</td>\n",
       "      <td>N/A</td>\n",
       "    </tr>\n",
       "    <tr>\n",
       "      <th>...</th>\n",
       "      <td>...</td>\n",
       "      <td>...</td>\n",
       "    </tr>\n",
       "    <tr>\n",
       "      <th>2047</th>\n",
       "      <td>06.03.2014</td>\n",
       "      <td>N/A</td>\n",
       "    </tr>\n",
       "    <tr>\n",
       "      <th>2048</th>\n",
       "      <td>25.10.2007</td>\n",
       "      <td>N/A</td>\n",
       "    </tr>\n",
       "    <tr>\n",
       "      <th>2049</th>\n",
       "      <td>12.02.2013</td>\n",
       "      <td>N/A</td>\n",
       "    </tr>\n",
       "    <tr>\n",
       "      <th>2050</th>\n",
       "      <td>02.10.2014</td>\n",
       "      <td>N/A</td>\n",
       "    </tr>\n",
       "    <tr>\n",
       "      <th>2051</th>\n",
       "      <td>16.10.2007</td>\n",
       "      <td>N/A</td>\n",
       "    </tr>\n",
       "  </tbody>\n",
       "</table>\n",
       "<p>2052 rows × 2 columns</p>\n",
       "</div>"
      ],
      "text/plain": [
       "           Datum                              Advokat\n",
       "0     25.04.2008  vertreten durch Advokat Marcel Muff\n",
       "1     18.11.2015                                  N/A\n",
       "2     12.09.2007                                  N/A\n",
       "3     27.04.2015                                  N/A\n",
       "4     19.01.2009                                  N/A\n",
       "...          ...                                  ...\n",
       "2047  06.03.2014                                  N/A\n",
       "2048  25.10.2007                                  N/A\n",
       "2049  12.02.2013                                  N/A\n",
       "2050  02.10.2014                                  N/A\n",
       "2051  16.10.2007                                  N/A\n",
       "\n",
       "[2052 rows x 2 columns]"
      ]
     },
     "execution_count": 120,
     "metadata": {},
     "output_type": "execute_result"
    }
   ],
   "source": [
    "pd.DataFrame(advokatliste)"
   ]
  },
  {
   "cell_type": "code",
   "execution_count": null,
   "id": "a9ce2ae2",
   "metadata": {},
   "outputs": [],
   "source": []
  },
  {
   "cell_type": "code",
   "execution_count": null,
   "id": "2e83a02a",
   "metadata": {},
   "outputs": [],
   "source": []
  },
  {
   "cell_type": "code",
   "execution_count": 28,
   "id": "c6b02ea2",
   "metadata": {},
   "outputs": [],
   "source": [
    "import re"
   ]
  },
  {
   "cell_type": "code",
   "execution_count": 29,
   "id": "ed24afec",
   "metadata": {},
   "outputs": [
    {
     "data": {
      "text/plain": [
       "'vertreten durch Advokat Marcel Muff'"
      ]
     },
     "execution_count": 29,
     "metadata": {},
     "output_type": "execute_result"
    }
   ],
   "source": []
  },
  {
   "cell_type": "code",
   "execution_count": null,
   "id": "ae1944b4",
   "metadata": {},
   "outputs": [],
   "source": []
  }
 ],
 "metadata": {
  "kernelspec": {
   "display_name": "Python 3 (ipykernel)",
   "language": "python",
   "name": "python3"
  },
  "language_info": {
   "codemirror_mode": {
    "name": "ipython",
    "version": 3
   },
   "file_extension": ".py",
   "mimetype": "text/x-python",
   "name": "python",
   "nbconvert_exporter": "python",
   "pygments_lexer": "ipython3",
   "version": "3.9.7"
  }
 },
 "nbformat": 4,
 "nbformat_minor": 5
}
