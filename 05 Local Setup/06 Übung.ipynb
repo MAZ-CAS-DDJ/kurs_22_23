{
 "cells": [
  {
   "cell_type": "markdown",
   "id": "b0d76775",
   "metadata": {},
   "source": [
    "## 20'000 Meldungen aus dem Iron March Message Board-Emailsystem"
   ]
  },
  {
   "cell_type": "markdown",
   "id": "fa3ab88c",
   "metadata": {},
   "source": [
    "**Aufgabe** Erstelle eine Liste mit allen Emails aus den Text-Meldungen"
   ]
  },
  {
   "cell_type": "markdown",
   "id": "fc581267",
   "metadata": {},
   "source": [
    "1. Welche Libraries willst Du importieren?"
   ]
  },
  {
   "cell_type": "code",
   "execution_count": null,
   "id": "33e1a3a8",
   "metadata": {},
   "outputs": [],
   "source": []
  },
  {
   "cell_type": "markdown",
   "id": "d537284b",
   "metadata": {},
   "source": [
    "2. Zeige den Inhalt des Folders Iron March an"
   ]
  },
  {
   "cell_type": "code",
   "execution_count": null,
   "id": "1e4cb04d",
   "metadata": {},
   "outputs": [],
   "source": []
  },
  {
   "cell_type": "markdown",
   "id": "c7c6d62a",
   "metadata": {},
   "source": [
    "3. Lese die erste Message ein?"
   ]
  },
  {
   "cell_type": "code",
   "execution_count": null,
   "id": "5cde7e90",
   "metadata": {},
   "outputs": [],
   "source": []
  },
  {
   "cell_type": "code",
   "execution_count": null,
   "id": "dcad27d7",
   "metadata": {},
   "outputs": [],
   "source": []
  },
  {
   "cell_type": "code",
   "execution_count": null,
   "id": "a9c77ee0",
   "metadata": {},
   "outputs": [],
   "source": []
  },
  {
   "cell_type": "markdown",
   "id": "cdadecae",
   "metadata": {},
   "source": [
    "4. Erstelle eine Regular Expression, mit [regexr.com](https://regexr.com/), um eine Email zu finden?"
   ]
  },
  {
   "cell_type": "code",
   "execution_count": null,
   "id": "feb21f22",
   "metadata": {},
   "outputs": [],
   "source": []
  },
  {
   "cell_type": "markdown",
   "id": "49b784f6",
   "metadata": {},
   "source": [
    "5. Erstelle eine Liste aller Files im Folder \"Iron March/messages/\""
   ]
  },
  {
   "cell_type": "code",
   "execution_count": null,
   "id": "528b120c",
   "metadata": {},
   "outputs": [],
   "source": []
  },
  {
   "cell_type": "markdown",
   "id": "31638671",
   "metadata": {},
   "source": [
    "6. Erstelle eine Liste aller Texte"
   ]
  },
  {
   "cell_type": "code",
   "execution_count": null,
   "id": "d6f42ff0",
   "metadata": {},
   "outputs": [],
   "source": []
  },
  {
   "cell_type": "code",
   "execution_count": null,
   "id": "cdeddff2",
   "metadata": {},
   "outputs": [],
   "source": []
  },
  {
   "cell_type": "markdown",
   "id": "dda1f434",
   "metadata": {},
   "source": [
    "7. Drucke alle Emails aus, die in den Meldungen zu finden sind"
   ]
  },
  {
   "cell_type": "code",
   "execution_count": null,
   "id": "a5bc9375",
   "metadata": {},
   "outputs": [],
   "source": []
  },
  {
   "cell_type": "markdown",
   "id": "ce0f8692",
   "metadata": {},
   "source": [
    "8. Reinige die Liste"
   ]
  },
  {
   "cell_type": "code",
   "execution_count": null,
   "id": "df199be4",
   "metadata": {},
   "outputs": [],
   "source": []
  },
  {
   "cell_type": "code",
   "execution_count": null,
   "id": "ffebc484",
   "metadata": {},
   "outputs": [],
   "source": []
  }
 ],
 "metadata": {
  "kernelspec": {
   "display_name": "Python 3 (ipykernel)",
   "language": "python",
   "name": "python3"
  },
  "language_info": {
   "codemirror_mode": {
    "name": "ipython",
    "version": 3
   },
   "file_extension": ".py",
   "mimetype": "text/x-python",
   "name": "python",
   "nbconvert_exporter": "python",
   "pygments_lexer": "ipython3",
   "version": "3.9.7"
  }
 },
 "nbformat": 4,
 "nbformat_minor": 5
}
