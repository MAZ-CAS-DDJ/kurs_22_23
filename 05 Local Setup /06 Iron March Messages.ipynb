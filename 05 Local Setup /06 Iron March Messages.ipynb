{
 "cells": [
  {
   "cell_type": "markdown",
   "id": "b0d76775",
   "metadata": {},
   "source": [
    "## 20'000 Meldungen aus dem Iron March Message Board-Emailsystem"
   ]
  },
  {
   "cell_type": "markdown",
   "id": "fa3ab88c",
   "metadata": {},
   "source": [
    "**Aufgabe** Erstelle eine Liste mit allen Emails aus den Text-Meldungen"
   ]
  },
  {
   "cell_type": "markdown",
   "id": "fc581267",
   "metadata": {},
   "source": [
    "1. Welche Libraries willst Du importieren?"
   ]
  },
  {
   "cell_type": "code",
   "execution_count": 1,
   "id": "33e1a3a8",
   "metadata": {},
   "outputs": [],
   "source": [
    "import os #um files effizient einzulesen\n",
    "import re #um Daten zu finden"
   ]
  },
  {
   "cell_type": "markdown",
   "id": "d537284b",
   "metadata": {},
   "source": [
    "2. Zeige den Inhalt des Folders Iron March an"
   ]
  },
  {
   "cell_type": "code",
   "execution_count": 4,
   "id": "1e4cb04d",
   "metadata": {},
   "outputs": [
    {
     "name": "stdout",
     "output_type": "stream",
     "text": [
      "\u001b[34mmessages\u001b[m\u001b[m/               ta_20200201_0_0_43.pdf  ta_20200201_0_0_44.pdf\r\n"
     ]
    }
   ],
   "source": [
    "ls \"Iron March\""
   ]
  },
  {
   "cell_type": "markdown",
   "id": "c7c6d62a",
   "metadata": {},
   "source": [
    "3. Lese die erste Message ein?"
   ]
  },
  {
   "cell_type": "code",
   "execution_count": 11,
   "id": "5cde7e90",
   "metadata": {},
   "outputs": [
    {
     "name": "stdout",
     "output_type": "stream",
     "text": [
      "Iron March/messages/1.txt\r\n"
     ]
    }
   ],
   "source": [
    "ls \"Iron March/messages/1.txt\""
   ]
  },
  {
   "cell_type": "code",
   "execution_count": 12,
   "id": "dcad27d7",
   "metadata": {},
   "outputs": [],
   "source": [
    "f = open(\"Iron March/messages/3.txt\",'r')"
   ]
  },
  {
   "cell_type": "code",
   "execution_count": 8,
   "id": "a9c77ee0",
   "metadata": {},
   "outputs": [
    {
     "data": {
      "text/plain": [
       "'<p>The best first post to make on our forums is the one where you introduce yourself to the community. Check the Introductions forum to do this.</p>'"
      ]
     },
     "execution_count": 8,
     "metadata": {},
     "output_type": "execute_result"
    }
   ],
   "source": [
    "f.read()"
   ]
  },
  {
   "cell_type": "markdown",
   "id": "cdadecae",
   "metadata": {},
   "source": [
    "4. Erstelle eine Regular Expression, mit [regexr.com](https://regexr.com/), um eine Email zu finden?"
   ]
  },
  {
   "cell_type": "code",
   "execution_count": 62,
   "id": "feb21f22",
   "metadata": {},
   "outputs": [],
   "source": [
    "emailaddress = re.compile(r'[a-z1-9]*\\.*[a-z1-9]*@[a-z1-9]*\\.[a-z]*')"
   ]
  },
  {
   "cell_type": "markdown",
   "id": "49b784f6",
   "metadata": {},
   "source": [
    "5. Erstelle eine Liste aller Files im Folder \"Iron March/messages/\""
   ]
  },
  {
   "cell_type": "code",
   "execution_count": 63,
   "id": "528b120c",
   "metadata": {},
   "outputs": [],
   "source": [
    "email_lst = os.listdir(\"Iron March/messages/\")"
   ]
  },
  {
   "cell_type": "markdown",
   "id": "31638671",
   "metadata": {},
   "source": [
    "6. Erstelle eine Liste aller Texte"
   ]
  },
  {
   "cell_type": "code",
   "execution_count": 64,
   "id": "d6f42ff0",
   "metadata": {},
   "outputs": [],
   "source": [
    "new_lst = []\n",
    "\n",
    "for elem in email_lst:\n",
    "    f = open(\"Iron March/messages/\"+elem,'r')\n",
    "    f = f.read()\n",
    "    new_lst.append(f)"
   ]
  },
  {
   "cell_type": "code",
   "execution_count": 65,
   "id": "cdeddff2",
   "metadata": {},
   "outputs": [
    {
     "data": {
      "text/plain": [
       "['\\n<p>8134363595</p>\\n<p>Text me there. Use this code: dh5sx </p>\\n',\n",
       " '<p>I am a national socialist, yes, but not particularly an esoteric national socialist; I have deep interest in folkist ideologies and thus embrace religion in the same manner the SS did. I am no Pagan, I am an Atheist, but feel Paganism is best for Germans due to ancestral roots.</p>',\n",
       " \"<p>\\n\\tI actually don't see much reason to continue posting. I'm gonna ask to get gassed.\\n</p>\",\n",
       " \"<p>\\n\\tNot really.<br />\\n\\tI'm normally quiet around them, recognizing my place within the Natural Order.<br />\\n\\t\\xa0\\n</p>\",\n",
       " '<p>Have you thought about it more? What do you have to share?</p>']"
      ]
     },
     "execution_count": 65,
     "metadata": {},
     "output_type": "execute_result"
    }
   ],
   "source": [
    "new_lst[:5]"
   ]
  },
  {
   "cell_type": "markdown",
   "id": "dda1f434",
   "metadata": {},
   "source": [
    "7. Drucke alle Emails aus, die in den Meldungen zu finden sind"
   ]
  },
  {
   "cell_type": "code",
   "execution_count": 66,
   "id": "a5bc9375",
   "metadata": {},
   "outputs": [],
   "source": [
    "email_list = []\n",
    "for mail in new_lst:\n",
    "    a = re.search(emailaddress, mail)\n",
    "    try:\n",
    "\n",
    "        email_list.append(a.group())\n",
    "    except:\n",
    "        continue\n"
   ]
  },
  {
   "cell_type": "markdown",
   "id": "ce0f8692",
   "metadata": {},
   "source": [
    "8. Reinige die Liste"
   ]
  },
  {
   "cell_type": "code",
   "execution_count": 67,
   "id": "df199be4",
   "metadata": {},
   "outputs": [],
   "source": [
    "email_list = [x for x in email_list if not '.png' in x]\n",
    "email_list = [x for x in email_list if not '\\xa0' in x]\n",
    "email_list = [x for x in email_list if not '<' in x]\n",
    "email_list = [x for x in email_list if not '<' in x]"
   ]
  },
  {
   "cell_type": "code",
   "execution_count": 71,
   "id": "ffebc484",
   "metadata": {},
   "outputs": [
    {
     "data": {
      "text/plain": [
       "['mogadishulootcrew@tutanota.com',\n",
       " 'nignogland@gmail.com',\n",
       " 'eleigios@hotmail.com',\n",
       " 'benjaminnoyles@yahoo.co',\n",
       " 'elbrus88@protonmail.com']"
      ]
     },
     "execution_count": 71,
     "metadata": {},
     "output_type": "execute_result"
    }
   ],
   "source": [
    "email_list[:5]"
   ]
  }
 ],
 "metadata": {
  "kernelspec": {
   "display_name": "Python 3 (ipykernel)",
   "language": "python",
   "name": "python3"
  },
  "language_info": {
   "codemirror_mode": {
    "name": "ipython",
    "version": 3
   },
   "file_extension": ".py",
   "mimetype": "text/x-python",
   "name": "python",
   "nbconvert_exporter": "python",
   "pygments_lexer": "ipython3",
   "version": "3.9.7"
  }
 },
 "nbformat": 4,
 "nbformat_minor": 5
}
